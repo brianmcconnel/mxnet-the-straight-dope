{
  "nbformat": 4,
  "nbformat_minor": 0,
  "metadata": {
    "colab": {
      "name": "linear-regression-scratch.ipynb",
      "version": "0.3.2",
      "provenance": []
    },
    "language_info": {
      "codemirror_mode": {
        "name": "ipython",
        "version": 3
      },
      "file_extension": ".py",
      "mimetype": "text/x-python",
      "name": "python",
      "nbconvert_exporter": "python",
      "pygments_lexer": "ipython3",
      "version": "3.4.3"
    },
    "kernelspec": {
      "display_name": "Python 3",
      "language": "python",
      "name": "python3"
    }
  },
  "cells": [
    {
      "cell_type": "markdown",
      "metadata": {
        "id": "bYYt5vDQW1hq",
        "colab_type": "text"
      },
      "source": [
        "# Linear regression from scratch\n",
        "\n",
        "Powerful ML libraries can eliminate repetitive work, but if you rely too much on abstractions, you might never learn how neural networks really work under the hood. So for this first example, let's get our hands dirty and build everything from scratch, relying only on autograd and NDArray. First, we'll import the same dependencies as in the [autograd chapter](../chapter01_crashcourse/autograd.ipynb). We'll also import the powerful `gluon` package  but in this chapter, we'll only be using it for data loading."
      ]
    },
    {
      "cell_type": "code",
      "metadata": {
        "id": "zphHrZ9cW-dn",
        "colab_type": "code",
        "colab": {
          "base_uri": "https://localhost:8080/",
          "height": 568
        },
        "outputId": "22fcb9ad-c407-47aa-af43-5043c32dd766"
      },
      "source": [
        "!pip install mxnet-cu100"
      ],
      "execution_count": 1,
      "outputs": [
        {
          "output_type": "stream",
          "text": [
            "Collecting mxnet-cu100\n",
            "\u001b[?25l  Downloading https://files.pythonhosted.org/packages/ae/36/40b6d201b46495513f7a7fa25fe8b7d85b3602a22efba119e8146d5f1601/mxnet_cu100-1.4.0.post0-py2.py3-none-manylinux1_x86_64.whl (487.9MB)\n",
            "\u001b[K     |████████████████████████████████| 487.9MB 32kB/s \n",
            "\u001b[?25hRequirement already satisfied: requests>=2.20.0 in /usr/local/lib/python3.6/dist-packages (from mxnet-cu100) (2.21.0)\n",
            "Collecting numpy<1.15.0,>=1.8.2 (from mxnet-cu100)\n",
            "\u001b[?25l  Downloading https://files.pythonhosted.org/packages/e5/c4/395ebb218053ba44d64935b3729bc88241ec279915e72100c5979db10945/numpy-1.14.6-cp36-cp36m-manylinux1_x86_64.whl (13.8MB)\n",
            "\u001b[K     |████████████████████████████████| 13.8MB 37.1MB/s \n",
            "\u001b[?25hCollecting graphviz<0.9.0,>=0.8.1 (from mxnet-cu100)\n",
            "  Downloading https://files.pythonhosted.org/packages/53/39/4ab213673844e0c004bed8a0781a0721a3f6bb23eb8854ee75c236428892/graphviz-0.8.4-py2.py3-none-any.whl\n",
            "Requirement already satisfied: urllib3<1.25,>=1.21.1 in /usr/local/lib/python3.6/dist-packages (from requests>=2.20.0->mxnet-cu100) (1.24.2)\n",
            "Requirement already satisfied: chardet<3.1.0,>=3.0.2 in /usr/local/lib/python3.6/dist-packages (from requests>=2.20.0->mxnet-cu100) (3.0.4)\n",
            "Requirement already satisfied: certifi>=2017.4.17 in /usr/local/lib/python3.6/dist-packages (from requests>=2.20.0->mxnet-cu100) (2019.3.9)\n",
            "Requirement already satisfied: idna<2.9,>=2.5 in /usr/local/lib/python3.6/dist-packages (from requests>=2.20.0->mxnet-cu100) (2.8)\n",
            "\u001b[31mERROR: spacy 2.0.18 has requirement numpy>=1.15.0, but you'll have numpy 1.14.6 which is incompatible.\u001b[0m\n",
            "\u001b[31mERROR: imgaug 0.2.8 has requirement numpy>=1.15.0, but you'll have numpy 1.14.6 which is incompatible.\u001b[0m\n",
            "\u001b[31mERROR: fastai 1.0.52 has requirement numpy>=1.15, but you'll have numpy 1.14.6 which is incompatible.\u001b[0m\n",
            "\u001b[31mERROR: datascience 0.10.6 has requirement folium==0.2.1, but you'll have folium 0.8.3 which is incompatible.\u001b[0m\n",
            "\u001b[31mERROR: albumentations 0.1.12 has requirement imgaug<0.2.7,>=0.2.5, but you'll have imgaug 0.2.8 which is incompatible.\u001b[0m\n",
            "Installing collected packages: numpy, graphviz, mxnet-cu100\n",
            "  Found existing installation: numpy 1.16.3\n",
            "    Uninstalling numpy-1.16.3:\n",
            "      Successfully uninstalled numpy-1.16.3\n",
            "  Found existing installation: graphviz 0.10.1\n",
            "    Uninstalling graphviz-0.10.1:\n",
            "      Successfully uninstalled graphviz-0.10.1\n",
            "Successfully installed graphviz-0.8.4 mxnet-cu100-1.4.0.post0 numpy-1.14.6\n"
          ],
          "name": "stdout"
        },
        {
          "output_type": "display_data",
          "data": {
            "application/vnd.colab-display-data+json": {
              "pip_warning": {
                "packages": [
                  "numpy"
                ]
              }
            }
          },
          "metadata": {
            "tags": []
          }
        }
      ]
    },
    {
      "cell_type": "code",
      "metadata": {
        "id": "_9TR0lgFW1hx",
        "colab_type": "code",
        "colab": {}
      },
      "source": [
        "from __future__ import print_function\n",
        "import mxnet as mx\n",
        "from mxnet import nd, autograd, gluon\n",
        "mx.random.seed(1)"
      ],
      "execution_count": 0,
      "outputs": []
    },
    {
      "cell_type": "markdown",
      "metadata": {
        "id": "IzFFG1JfW1h7",
        "colab_type": "text"
      },
      "source": [
        "## Set the context\n",
        "\n",
        "We'll also want to specify the contexts where computation should happen. This tutorial is so simple that you could probably run it on a calculator watch. But, to develop good habits we're going to specify two contexts: one for data and one for our models. "
      ]
    },
    {
      "cell_type": "code",
      "metadata": {
        "id": "ZduYXgzSW1h-",
        "colab_type": "code",
        "colab": {}
      },
      "source": [
        "data_ctx = mx.cpu()\n",
        "model_ctx = mx.cpu()"
      ],
      "execution_count": 0,
      "outputs": []
    },
    {
      "cell_type": "markdown",
      "metadata": {
        "id": "XyBrCSwNW1iK",
        "colab_type": "text"
      },
      "source": [
        "## Linear regression\n",
        "\n",
        "\n",
        "To get our feet wet, we'll start off by looking at the problem of regression.\n",
        "This is the task of predicting a *real valued target* $y$ given a data point $x$.\n",
        "In linear regression, the simplest and still perhaps the most useful approach,\n",
        "we assume that prediction can be expressed as a *linear* combination of the input features \n",
        "(thus giving the name *linear* regression):\n",
        "\n",
        "$$\\hat{y} = w_1 \\cdot x_1 + ... + w_d \\cdot x_d + b$$\n",
        "\n",
        "\n",
        "Given a collection of data points $X$, and corresponding target values $\\boldsymbol{y}$, \n",
        "we'll try to find the *weight* vector $\\boldsymbol{w}$ and bias term $b$ \n",
        "(also called an *offset* or *intercept*)\n",
        "that approximately associate data points $\\boldsymbol{x}_i$ with their corresponding labels ``y_i``. \n",
        "Using slightly more advanced math notation, we can express the predictions $\\boldsymbol{\\hat{y}}$\n",
        "corresponding to a collection of datapoints $X$ via the matrix-vector product:\n",
        "\n",
        "$$\\boldsymbol{\\hat{y}} = X \\boldsymbol{w} + b$$\n",
        "\n",
        "\n",
        "Before we can get going, we will need two more things \n",
        "\n",
        "* Some way to measure the quality of the current model  \n",
        "* Some way to manipulate the model to improve its quality\n",
        "\n",
        "\n",
        "### Square loss\n",
        "In order to say whether we've done a good job, \n",
        "we need some way to measure the quality of a model. \n",
        "Generally, we will define a *loss function*\n",
        "that says *how far* are our predictions from the correct answers.\n",
        "For the classical case of linear regression, \n",
        "we usually focus on the squared error.\n",
        "Specifically, our loss will be the sum, over all examples, of the squared error $(y_i-\\hat{y})^2$ on each:\n",
        "\n",
        "$$\\ell(y, \\hat{y}) = \\sum_{i=1}^n (\\hat{y}_i-y_i)^2.$$\n",
        "\n",
        "\n",
        "For one-dimensional data, we can easily visualize the relationship between our single feature and the target variable. It's also easy to visualize a linear predictor and it's error on each example. \n",
        "Note that squared loss *heavily penalizes outliers*. For the visualized predictor below, the lone outlier would contribute most of the loss.\n",
        "\n",
        "![](https://github.com/brianmcconnel/mxnet-the-straight-dope/blob/master/img/linear-regression.png?raw=1)\n",
        "\n",
        "\n",
        "### Manipulating the model\n",
        "\n",
        "For us to minimize the error,\n",
        "we need some mechanism to alter the model.\n",
        "We do this by choosing values of the *parameters*\n",
        "$\\boldsymbol{w}$ and $b$.\n",
        "This is the only job of the learning algorithm.\n",
        "Take training data ($X$, $y$) and the functional form of the model $\\hat{y} = X\\boldsymbol{w} + b$.\n",
        "Learning then consists of choosing the best possible $\\boldsymbol{w}$ and $b$ based on the available evidence.\n",
        "\n",
        "\n",
        "\n",
        "\n",
        "\n",
        "### Historical note\n",
        "\n",
        "You might reasonably point out that linear regression is a classical statistical model.\n",
        "[According to Wikipedia](https://en.wikipedia.org/wiki/Regression_analysis#History), \n",
        "Legendre first developed the method of least squares regression in 1805,\n",
        "which was shortly thereafter rediscovered by Gauss in 1809. \n",
        "Presumably, Legendre, who had Tweeted about the paper several times,\n",
        "was peeved that Gauss failed to cite his arXiv preprint. \n",
        "\n",
        "![Legendre](https://github.com/brianmcconnel/mxnet-the-straight-dope/blob/master/img/legendre.jpeg?raw=1)\n",
        "\n",
        "\n",
        "Matters of provenance aside, you might wonder - if Legendre and Gauss \n",
        "worked on linear regression, does that mean there were the original deep learning researchers?\n",
        "And if linear regression doesn't wholly belong to deep learning, \n",
        "then why are we presenting a linear model \n",
        "as the first example in a tutorial series on neural networks? \n",
        "Well it turns out that we can express linear regression \n",
        "as the simplest possible (useful) neural network. \n",
        "A neural network is just a collection of nodes (aka neurons) connected by directed edges. \n",
        "In most networks, we arrange the nodes into layers with each feeding its output into the layer above. \n",
        "To calculate the value of any node, we first perform a weighted sum of the inputs (according to weights ``w``) \n",
        "and then apply an *activation function*. \n",
        "For linear regression, we only have two layers, one corresponding to the input (depicted in orange) \n",
        "and a one-node layer (depicted in green) corresponding to the ouput.\n",
        "For the output node the activation function is just the identity function.\n",
        "\n",
        "![](https://github.com/brianmcconnel/mxnet-the-straight-dope/blob/master/img/onelayer.png?raw=1)\n",
        "\n",
        "While you certainly don't have to view linear regression through the lens of deep learning, \n",
        "you can (and we will!).\n",
        "To ground the concepts that we just discussed in code, \n",
        "let's actually code up a neural network for linear regression from scratch.\n",
        "\n",
        "\n",
        "To get going, we will generate a simple synthetic dataset by sampling random data points ``X[i]`` and corresponding labels ``y[i]`` in the following manner. Our inputs will each be sampled from a random normal distribution with mean $0$ and variance $1$. Our features will be independent. Another way of saying this is that they will have diagonal covariance.  The labels will be generated accoding to the *true* labeling function `y[i] = 2 * X[i][0]- 3.4 * X[i][1] + 4.2 + noise` where the noise is drawn from a random gaussian with mean ``0`` and variance ``.01``. We could express the labeling function in mathematical notation as:\n",
        "$$y = X \\cdot w + b + \\eta, \\quad \\text{for } \\eta \\sim \\mathcal{N}(0,\\sigma^2)$$ \n"
      ]
    },
    {
      "cell_type": "code",
      "metadata": {
        "id": "sg8aoxwuW1iM",
        "colab_type": "code",
        "colab": {}
      },
      "source": [
        "num_inputs = 2\n",
        "num_outputs = 1\n",
        "num_examples = 10000\n",
        "\n",
        "def real_fn(X):\n",
        "    return 2 * X[:, 0] - 3.4 * X[:, 1] + 4.2\n",
        "    \n",
        "X = nd.random_normal(shape=(num_examples, num_inputs), ctx=data_ctx)\n",
        "noise = .1 * nd.random_normal(shape=(num_examples,), ctx=data_ctx)\n",
        "y = real_fn(X) + noise"
      ],
      "execution_count": 0,
      "outputs": []
    },
    {
      "cell_type": "markdown",
      "metadata": {
        "id": "MLjF-buwW1iU",
        "colab_type": "text"
      },
      "source": [
        "Notice that each row in ``X`` consists of a 2-dimensional data point and that each row in ``Y`` consists of a 1-dimensional target value. "
      ]
    },
    {
      "cell_type": "code",
      "metadata": {
        "id": "6PNA2PoXW1iW",
        "colab_type": "code",
        "colab": {
          "base_uri": "https://localhost:8080/",
          "height": 119
        },
        "outputId": "0da2d7a6-2774-424b-a554-5c28733e5c53"
      },
      "source": [
        "print(X[0])\n",
        "print(y[0])"
      ],
      "execution_count": 4,
      "outputs": [
        {
          "output_type": "stream",
          "text": [
            "\n",
            "[-0.6776515   0.10073948]\n",
            "<NDArray 2 @cpu(0)>\n",
            "\n",
            "[2.4451]\n",
            "<NDArray 1 @cpu(0)>\n"
          ],
          "name": "stdout"
        }
      ]
    },
    {
      "cell_type": "markdown",
      "metadata": {
        "id": "rWQYsFiSW1ik",
        "colab_type": "text"
      },
      "source": [
        "Note that because our synthetic features `X` live on `data_ctx` and because our noise also lives on `data_ctx`, the labels `y`, produced by combining `X` and `noise` in `real_fn` also live on `data_ctx`. \n",
        "We can confirm that for any randomly chosen point, \n",
        "a linear combination with the (known) optimal parameters \n",
        "produces a prediction that is indeed close to the target value"
      ]
    },
    {
      "cell_type": "code",
      "metadata": {
        "id": "nlkskgtgW1im",
        "colab_type": "code",
        "colab": {
          "base_uri": "https://localhost:8080/",
          "height": 68
        },
        "outputId": "8750c6a8-1d5f-4f64-9773-a23f853e1559"
      },
      "source": [
        "print(2 * X[0, 0] - 3.4 * X[0, 1] + 4.2)"
      ],
      "execution_count": 5,
      "outputs": [
        {
          "output_type": "stream",
          "text": [
            "\n",
            "[2.5021825]\n",
            "<NDArray 1 @cpu(0)>\n"
          ],
          "name": "stdout"
        }
      ]
    },
    {
      "cell_type": "markdown",
      "metadata": {
        "id": "LTkCiRbEW1ix",
        "colab_type": "text"
      },
      "source": [
        "We can visualize the correspondence between our second feature (``X[:, 1]``) and the target values ``Y`` by generating a scatter plot with the Python plotting package ``matplotlib``. Make sure that ``matplotlib`` is installed. Otherwise, you may install it by running ``pip2 install matplotlib`` (for Python 2) or ``pip3 install matplotlib`` (for Python 3) on your command line. \n",
        "\n",
        "In order to plot with ``matplotlib`` we'll just need to convert ``X`` and ``y`` into NumPy arrays by using the `.asnumpy()` function. "
      ]
    },
    {
      "cell_type": "code",
      "metadata": {
        "id": "LOqroVTRW1i0",
        "colab_type": "code",
        "colab": {
          "base_uri": "https://localhost:8080/",
          "height": 269
        },
        "outputId": "5feaf0bf-2fc2-40cf-f281-3ca59cf2db56"
      },
      "source": [
        "import matplotlib.pyplot as plt\n",
        "plt.scatter(X[:, 1].asnumpy(),y.asnumpy())\n",
        "plt.show()"
      ],
      "execution_count": 6,
      "outputs": [
        {
          "output_type": "display_data",
          "data": {
            "image/png": "[encoded data removed]",
            "text/plain": [
              "<Figure size 432x288 with 1 Axes>"
            ]
          },
          "metadata": {
            "tags": []
          }
        }
      ]
    },
    {
      "cell_type": "markdown",
      "metadata": {
        "id": "7wQeVy9OW1i_",
        "colab_type": "text"
      },
      "source": [
        "## Data iterators\n",
        "\n",
        "Once we start working with neural networks, we're going to need to iterate through our data points quickly. We'll also want to be able to grab batches of ``k`` data points at a time, to shuffle our data. In MXNet, data iterators give us a nice set of utilities for fetching and manipulating data. In particular, we'll work with the simple  ``DataLoader`` class, that provides an intuitive way to use an ``ArrayDataset`` for training models.\n",
        "\n",
        "\n",
        "We can load `X` and `y` into an ArrayDataset, by calling `gluon.data.ArrayDataset(X, y)`. It's ok for `X` to be a multi-dimensional input array (say, of images) and `y` to be just a one-dimensional array of labels. The one requirement is that they have equal lengths along the first axis, i.e., `len(X) == len(y)`. \n",
        "\n",
        "Given an `ArrayDataset`, we can create a DataLoader which will grab random batches of data from an `ArrayDataset`.  We'll want to specify two arguments. First, we'll need to say the `batch_size`, i.e., how many examples we want to grab at a time. Second, we'll want to specify whether or not to shuffle the data between iterations through the dataset. "
      ]
    },
    {
      "cell_type": "code",
      "metadata": {
        "id": "2ZnS1qDKW1jD",
        "colab_type": "code",
        "colab": {}
      },
      "source": [
        "batch_size = 4\n",
        "train_data = gluon.data.DataLoader(gluon.data.ArrayDataset(X, y),\n",
        "                                   batch_size=batch_size, shuffle=True)"
      ],
      "execution_count": 0,
      "outputs": []
    },
    {
      "cell_type": "markdown",
      "metadata": {
        "id": "SCH4s6hMW1jK",
        "colab_type": "text"
      },
      "source": [
        "Once we've initialized our DataLoader (``train_data``), we can easily fetch batches by iterating over `train_data` just as if it were a Python list. You can use your favorite iterating techniques like foreach loops: `for data, label in train_data` or enumerations: `for i, (data, label) in enumerate(train_data)`. \n",
        "First, let's just grab one batch and break out of the loop."
      ]
    },
    {
      "cell_type": "code",
      "metadata": {
        "id": "-hppdQ2hW1jN",
        "colab_type": "code",
        "colab": {
          "base_uri": "https://localhost:8080/",
          "height": 153
        },
        "outputId": "5e1cf877-4830-4a12-f5b7-7cf22686f847"
      },
      "source": [
        "for i, (data, label) in enumerate(train_data):\n",
        "    print(data, label)\n",
        "    break"
      ],
      "execution_count": 8,
      "outputs": [
        {
          "output_type": "stream",
          "text": [
            "\n",
            "[[-0.38659582  0.79867214]\n",
            " [-0.1109116  -2.6690612 ]\n",
            " [-0.00760303 -1.6681854 ]\n",
            " [ 1.7492341   0.22429378]]\n",
            "<NDArray 4x2 @cpu(0)> \n",
            "[ 0.569407  13.06585    9.892208   6.8163714]\n",
            "<NDArray 4 @cpu(0)>\n"
          ],
          "name": "stdout"
        }
      ]
    },
    {
      "cell_type": "markdown",
      "metadata": {
        "id": "CY3lYFvFW1jc",
        "colab_type": "text"
      },
      "source": [
        "If we run that same code again you'll notice that we get a different batch. That's because we instructed the `DataLoader` that `shuffle=True`. "
      ]
    },
    {
      "cell_type": "code",
      "metadata": {
        "id": "eXloqaXNW1je",
        "colab_type": "code",
        "colab": {
          "base_uri": "https://localhost:8080/",
          "height": 153
        },
        "outputId": "df21ac24-14f3-48e9-fc34-baca423055ef"
      },
      "source": [
        "for i, (data, label) in enumerate(train_data):\n",
        "    print(data, label)\n",
        "    break"
      ],
      "execution_count": 9,
      "outputs": [
        {
          "output_type": "stream",
          "text": [
            "\n",
            "[[ 0.7737837  -0.36692303]\n",
            " [-0.47656718  1.5837328 ]\n",
            " [-1.2518188  -0.50250584]\n",
            " [ 1.4062328   1.9194248 ]]\n",
            "<NDArray 4x2 @cpu(0)> \n",
            "[ 6.914161  -2.2203429  3.3841043  0.4364014]\n",
            "<NDArray 4 @cpu(0)>\n"
          ],
          "name": "stdout"
        }
      ]
    },
    {
      "cell_type": "markdown",
      "metadata": {
        "id": "N7tV-OawW1jo",
        "colab_type": "text"
      },
      "source": [
        "Finally, if we actually pass over the entire dataset, and count the number of batches, we'll find that there are 2500 batches. We expect this because our dataset has 10,000 examples and we configured the `DataLoader` with a batch size of 4."
      ]
    },
    {
      "cell_type": "code",
      "metadata": {
        "id": "FZiwJQICW1jq",
        "colab_type": "code",
        "colab": {
          "base_uri": "https://localhost:8080/",
          "height": 34
        },
        "outputId": "135f42d6-c493-44f5-c113-3121f038aadb"
      },
      "source": [
        "for i, (data, label) in enumerate(train_data):\n",
        "    pass\n",
        "print(i+1)"
      ],
      "execution_count": 10,
      "outputs": [
        {
          "output_type": "stream",
          "text": [
            "2500\n"
          ],
          "name": "stdout"
        }
      ]
    },
    {
      "cell_type": "markdown",
      "metadata": {
        "id": "Ppi3I2mLW1j1",
        "colab_type": "text"
      },
      "source": [
        "## Model parameters\n",
        "\n",
        "Now let's allocate some memory for our parameters and set their initial values. We'll want to initialize these parameters on the `model_ctx`. "
      ]
    },
    {
      "cell_type": "code",
      "metadata": {
        "id": "QbUIEi-ZW1j4",
        "colab_type": "code",
        "colab": {}
      },
      "source": [
        "w = nd.random_normal(shape=(num_inputs, num_outputs), ctx=model_ctx)\n",
        "b = nd.random_normal(shape=num_outputs, ctx=model_ctx)\n",
        "params = [w, b]"
      ],
      "execution_count": 0,
      "outputs": []
    },
    {
      "cell_type": "markdown",
      "metadata": {
        "id": "c4il_mWEW1kB",
        "colab_type": "text"
      },
      "source": [
        "In the succeeding cells, we're going to update these parameters to better fit our data. This will involve taking the gradient (a multi-dimensional derivative) of some *loss function* with respect to the parameters. We'll update each parameter in the direction that reduces the loss. But first, let's just allocate some memory for each gradient."
      ]
    },
    {
      "cell_type": "code",
      "metadata": {
        "id": "V3PRB3HCW1kE",
        "colab_type": "code",
        "colab": {}
      },
      "source": [
        "for param in params:\n",
        "    param.attach_grad()"
      ],
      "execution_count": 0,
      "outputs": []
    },
    {
      "cell_type": "markdown",
      "metadata": {
        "id": "PfP90UkIW1kL",
        "colab_type": "text"
      },
      "source": [
        "## Neural networks\n",
        "\n",
        "Next we'll want to define our model. In this case, we'll be working with linear models, the simplest possible *useful* neural network. To calculate the output of the linear model, we simply multiply a given input with the model's weights (``w``), and add the offset ``b``."
      ]
    },
    {
      "cell_type": "code",
      "metadata": {
        "id": "Y4Gu_Hb-W1kN",
        "colab_type": "code",
        "colab": {}
      },
      "source": [
        "def net(X):\n",
        "    return mx.nd.dot(X, w) + b"
      ],
      "execution_count": 0,
      "outputs": []
    },
    {
      "cell_type": "markdown",
      "metadata": {
        "id": "D5mYb0jXW1kZ",
        "colab_type": "text"
      },
      "source": [
        "Ok, that was easy."
      ]
    },
    {
      "cell_type": "markdown",
      "metadata": {
        "id": "pvzIYZJ_W1kk",
        "colab_type": "text"
      },
      "source": [
        "## Loss function\n",
        "\n",
        "Train a model means making it better and better over the course of a period of training. But in order for this goal to make any sense at all, we first need to define what *better* means in the first place. In this case, we'll use the squared distance between our prediction and the true value. "
      ]
    },
    {
      "cell_type": "code",
      "metadata": {
        "id": "qUSackM3W1km",
        "colab_type": "code",
        "colab": {}
      },
      "source": [
        "def square_loss(yhat, y): \n",
        "    return nd.mean((yhat - y) ** 2)"
      ],
      "execution_count": 0,
      "outputs": []
    },
    {
      "cell_type": "markdown",
      "metadata": {
        "id": "kOkvSQryW1kz",
        "colab_type": "text"
      },
      "source": [
        "## Optimizer\n",
        "\n",
        "It turns out that linear regression actually has a closed-form solution. However, most interesting models that we'll care about cannot be solved analytically. So we'll solve this problem by stochastic gradient descent. At each step, we'll estimate the gradient of the loss with respect to our weights, using one batch randomly drawn from our dataset. Then, we'll update our parameters a small amount in the direction that reduces the loss. The size of the step is determined by the *learning rate* ``lr``. "
      ]
    },
    {
      "cell_type": "code",
      "metadata": {
        "id": "oTpN6fJ_W1k2",
        "colab_type": "code",
        "colab": {}
      },
      "source": [
        "def SGD(params, lr):    \n",
        "    for param in params:\n",
        "        param[:] = param - lr * param.grad"
      ],
      "execution_count": 0,
      "outputs": []
    },
    {
      "cell_type": "markdown",
      "metadata": {
        "id": "ZUu97rGpW1lJ",
        "colab_type": "text"
      },
      "source": [
        "## Execute training loop\n",
        "\n",
        "Now that we have all the pieces, we just need to wire them together by writing a training loop. \n",
        "First we'll define ``epochs``, the number of passes to make over the dataset. Then for each pass, we'll iterate through ``train_data``, grabbing batches of examples and their corresponding labels. \n",
        "\n",
        "For each batch, we'll go through the following ritual:\n",
        "     \n",
        "* Generate predictions (``yhat``) and the loss (``loss``) by executing a forward pass through the network.\n",
        "* Calculate gradients by making a backwards pass through the network (``loss.backward()``). \n",
        "* Update the model parameters by invoking our SGD optimizer.     \n"
      ]
    },
    {
      "cell_type": "code",
      "metadata": {
        "id": "ODFeoaF5W1lL",
        "colab_type": "code",
        "colab": {
          "base_uri": "https://localhost:8080/",
          "height": 187
        },
        "outputId": "b37cf88e-5731-4918-ed4c-fb8672c755f7"
      },
      "source": [
        "epochs = 10\n",
        "learning_rate = .0001\n",
        "num_batches = num_examples/batch_size\n",
        "\n",
        "for e in range(epochs):\n",
        "    cumulative_loss = 0\n",
        "    # inner loop\n",
        "    for i, (data, label) in enumerate(train_data):\n",
        "        data = data.as_in_context(model_ctx)\n",
        "        label = label.as_in_context(model_ctx).reshape((-1, 1))\n",
        "        with autograd.record():\n",
        "            output = net(data)\n",
        "            loss = square_loss(output, label)\n",
        "        loss.backward()\n",
        "        SGD(params, learning_rate)\n",
        "        cumulative_loss += loss.asscalar()\n",
        "    print(cumulative_loss / num_batches)"
      ],
      "execution_count": 16,
      "outputs": [
        {
          "output_type": "stream",
          "text": [
            "26.077893055605887\n",
            "9.783879751443862\n",
            "3.674329211343825\n",
            "1.3837015113275497\n",
            "0.5249412351362407\n",
            "0.20298583276015705\n",
            "0.08221740569313989\n",
            "0.03691087557367282\n",
            "0.019918566587707028\n",
            "0.013539691441852483\n"
          ],
          "name": "stdout"
        }
      ]
    },
    {
      "cell_type": "markdown",
      "metadata": {
        "id": "LUKcaAqrW1lU",
        "colab_type": "text"
      },
      "source": [
        "## Visualizing our training progess\n",
        "\n",
        "In the succeeding chapters, we'll introduce more realistic data, fancier models, more complicated loss functions, and more. But the core ideas are the same and the training loop will look remarkably familiar. Because these tutorials are self-contained, you'll get to know this ritual quite well. In addition to updating our model, we'll often want to do some bookkeeping. Among other things, we might want to keep track of training progress and visualize it graphically. We demonstrate one slighly more sophisticated training loop below."
      ]
    },
    {
      "cell_type": "code",
      "metadata": {
        "id": "fHhSk-IxW1lX",
        "colab_type": "code",
        "colab": {
          "base_uri": "https://localhost:8080/",
          "height": 715
        },
        "outputId": "7a133725-ec59-4d50-d3c3-5f45061470b1"
      },
      "source": [
        "############################################\n",
        "#    Re-initialize parameters because they \n",
        "#    were already trained in the first loop\n",
        "############################################\n",
        "w[:] = nd.random_normal(shape=(num_inputs, num_outputs), ctx=model_ctx)\n",
        "b[:] = nd.random_normal(shape=num_outputs, ctx=model_ctx)\n",
        "\n",
        "############################################\n",
        "#    Script to plot the losses over time\n",
        "############################################\n",
        "def plot(losses, X, sample_size=100):\n",
        "    xs = list(range(len(losses)))\n",
        "    f, (fg1, fg2) = plt.subplots(1, 2)\n",
        "    fg1.set_title('Loss during training')\n",
        "    fg1.plot(xs, losses, '-r')\n",
        "    fg2.set_title('Estimated vs real function')\n",
        "    fg2.plot(X[:sample_size, 1].asnumpy(),\n",
        "             net(X[:sample_size, :]).asnumpy(), 'or', label='Estimated')\n",
        "    fg2.plot(X[:sample_size, 1].asnumpy(),\n",
        "             real_fn(X[:sample_size, :]).asnumpy(), '*g', label='Real')\n",
        "    fg2.legend()\n",
        "\n",
        "    plt.show()\n",
        "\n",
        "learning_rate = .0001\n",
        "losses = []\n",
        "plot(losses, X)\n",
        "\n",
        "for e in range(epochs):\n",
        "    cumulative_loss = 0\n",
        "    for i, (data, label) in enumerate(train_data):\n",
        "        data = data.as_in_context(model_ctx)\n",
        "        label = label.as_in_context(model_ctx).reshape((-1, 1))\n",
        "        with autograd.record():\n",
        "            output = net(data)\n",
        "            loss = square_loss(output, label)\n",
        "        loss.backward()\n",
        "        SGD(params, learning_rate)\n",
        "        cumulative_loss += loss.asscalar()\n",
        "\n",
        "    print(\"Epoch %s, batch %s. Mean loss: %s\" % (e, i, cumulative_loss/num_batches))\n",
        "    losses.append(cumulative_loss/num_batches)\n",
        "            \n",
        "plot(losses, X)"
      ],
      "execution_count": 17,
      "outputs": [
        {
          "output_type": "display_data",
          "data": {
            "image/png": "[encoded data removed]",
            "text/plain": [
              "<Figure size 432x288 with 2 Axes>"
            ]
          },
          "metadata": {
            "tags": []
          }
        },
        {
          "output_type": "stream",
          "text": [
            "Epoch 0, batch 2499. Mean loss: 28.84073201598525\n",
            "Epoch 1, batch 2499. Mean loss: 10.818535945630073\n",
            "Epoch 2, batch 2499. Mean loss: 4.062225172442198\n",
            "Epoch 3, batch 2499. Mean loss: 1.5293156530776992\n",
            "Epoch 4, batch 2499. Mean loss: 0.5795792490273715\n",
            "Epoch 5, batch 2499. Mean loss: 0.22335267961183564\n",
            "Epoch 6, batch 2499. Mean loss: 0.08980512852445245\n",
            "Epoch 7, batch 2499. Mean loss: 0.039760803699144164\n",
            "Epoch 8, batch 2499. Mean loss: 0.020985440231172832\n",
            "Epoch 9, batch 2499. Mean loss: 0.013937549335841322\n"
          ],
          "name": "stdout"
        },
        {
          "output_type": "display_data",
          "data": {
            "image/png": "[encoded data removed]",
            "text/plain": [
              "<Figure size 432x288 with 2 Axes>"
            ]
          },
          "metadata": {
            "tags": []
          }
        }
      ]
    },
    {
      "cell_type": "markdown",
      "metadata": {
        "id": "RKia2PjkW1lf",
        "colab_type": "text"
      },
      "source": [
        "## Conclusion \n",
        "\n",
        "You've seen that using just mxnet.ndarray and mxnet.autograd, we can build statistical models from scratch. In the following tutorials, we'll build on this foundation, introducing the basic ideas behind modern neural networks and demonstrating the powerful abstractions in MXNet's `gluon` package for building complex models with little code. "
      ]
    },
    {
      "cell_type": "markdown",
      "metadata": {
        "id": "IstEMNFVW1lh",
        "colab_type": "text"
      },
      "source": [
        "## Next\n",
        "[Linear regression with gluon](../chapter02_supervised-learning/linear-regression-gluon.ipynb)"
      ]
    },
    {
      "cell_type": "markdown",
      "metadata": {
        "id": "O2cz2rfiW1lj",
        "colab_type": "text"
      },
      "source": [
        "For whinges or inquiries, [open an issue on  GitHub.](https://github.com/zackchase/mxnet-the-straight-dope)"
      ]
    }
  ]
}