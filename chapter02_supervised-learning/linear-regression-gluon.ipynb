{
  "nbformat": 4,
  "nbformat_minor": 0,
  "metadata": {
    "colab": {
      "name": "linear-regression-gluon.ipynb",
      "version": "0.3.2",
      "provenance": []
    },
    "language_info": {
      "codemirror_mode": {
        "name": "ipython",
        "version": 3
      },
      "file_extension": ".py",
      "mimetype": "text/x-python",
      "name": "python",
      "nbconvert_exporter": "python",
      "pygments_lexer": "ipython3",
      "version": "3.4.3"
    },
    "kernelspec": {
      "display_name": "Python 3",
      "language": "python",
      "name": "python3"
    }
  },
  "cells": [
    {
      "cell_type": "markdown",
      "metadata": {
        "id": "g9X0oGXbaKSL",
        "colab_type": "text"
      },
      "source": [
        "# Linear regression with ``gluon``\n",
        "\n",
        "Now that we've implemented a whole neural network from scratch, using nothing but ``mx.ndarray`` and ``mxnet.autograd``, let's see how we can make the same model while doing a lot less work. \n",
        "\n",
        "Again, let's import some packages, this time adding ``mxnet.gluon`` to the list of dependencies."
      ]
    },
    {
      "cell_type": "code",
      "metadata": {
        "id": "mOv_V-a3aOvN",
        "colab_type": "code",
        "colab": {
          "base_uri": "https://localhost:8080/",
          "height": 568
        },
        "outputId": "a5e2c624-26b6-4559-876e-e256d2dbfe4c"
      },
      "source": [
        "!pip install mxnet-cu100"
      ],
      "execution_count": 1,
      "outputs": [
        {
          "output_type": "stream",
          "text": [
            "Collecting mxnet-cu100\n",
            "\u001b[?25l  Downloading https://files.pythonhosted.org/packages/ae/36/40b6d201b46495513f7a7fa25fe8b7d85b3602a22efba119e8146d5f1601/mxnet_cu100-1.4.0.post0-py2.py3-none-manylinux1_x86_64.whl (487.9MB)\n",
            "\u001b[K     |████████████████████████████████| 487.9MB 33kB/s \n",
            "\u001b[?25hRequirement already satisfied: requests>=2.20.0 in /usr/local/lib/python3.6/dist-packages (from mxnet-cu100) (2.21.0)\n",
            "Collecting graphviz<0.9.0,>=0.8.1 (from mxnet-cu100)\n",
            "  Downloading https://files.pythonhosted.org/packages/53/39/4ab213673844e0c004bed8a0781a0721a3f6bb23eb8854ee75c236428892/graphviz-0.8.4-py2.py3-none-any.whl\n",
            "Collecting numpy<1.15.0,>=1.8.2 (from mxnet-cu100)\n",
            "\u001b[?25l  Downloading https://files.pythonhosted.org/packages/e5/c4/395ebb218053ba44d64935b3729bc88241ec279915e72100c5979db10945/numpy-1.14.6-cp36-cp36m-manylinux1_x86_64.whl (13.8MB)\n",
            "\u001b[K     |████████████████████████████████| 13.8MB 33.6MB/s \n",
            "\u001b[?25hRequirement already satisfied: urllib3<1.25,>=1.21.1 in /usr/local/lib/python3.6/dist-packages (from requests>=2.20.0->mxnet-cu100) (1.24.2)\n",
            "Requirement already satisfied: chardet<3.1.0,>=3.0.2 in /usr/local/lib/python3.6/dist-packages (from requests>=2.20.0->mxnet-cu100) (3.0.4)\n",
            "Requirement already satisfied: certifi>=2017.4.17 in /usr/local/lib/python3.6/dist-packages (from requests>=2.20.0->mxnet-cu100) (2019.3.9)\n",
            "Requirement already satisfied: idna<2.9,>=2.5 in /usr/local/lib/python3.6/dist-packages (from requests>=2.20.0->mxnet-cu100) (2.8)\n",
            "\u001b[31mERROR: spacy 2.0.18 has requirement numpy>=1.15.0, but you'll have numpy 1.14.6 which is incompatible.\u001b[0m\n",
            "\u001b[31mERROR: imgaug 0.2.8 has requirement numpy>=1.15.0, but you'll have numpy 1.14.6 which is incompatible.\u001b[0m\n",
            "\u001b[31mERROR: fastai 1.0.52 has requirement numpy>=1.15, but you'll have numpy 1.14.6 which is incompatible.\u001b[0m\n",
            "\u001b[31mERROR: datascience 0.10.6 has requirement folium==0.2.1, but you'll have folium 0.8.3 which is incompatible.\u001b[0m\n",
            "\u001b[31mERROR: albumentations 0.1.12 has requirement imgaug<0.2.7,>=0.2.5, but you'll have imgaug 0.2.8 which is incompatible.\u001b[0m\n",
            "Installing collected packages: graphviz, numpy, mxnet-cu100\n",
            "  Found existing installation: graphviz 0.10.1\n",
            "    Uninstalling graphviz-0.10.1:\n",
            "      Successfully uninstalled graphviz-0.10.1\n",
            "  Found existing installation: numpy 1.16.3\n",
            "    Uninstalling numpy-1.16.3:\n",
            "      Successfully uninstalled numpy-1.16.3\n",
            "Successfully installed graphviz-0.8.4 mxnet-cu100-1.4.0.post0 numpy-1.14.6\n"
          ],
          "name": "stdout"
        },
        {
          "output_type": "display_data",
          "data": {
            "application/vnd.colab-display-data+json": {
              "pip_warning": {
                "packages": [
                  "numpy"
                ]
              }
            }
          },
          "metadata": {
            "tags": []
          }
        }
      ]
    },
    {
      "cell_type": "code",
      "metadata": {
        "id": "_g1krKY-aKSV",
        "colab_type": "code",
        "colab": {}
      },
      "source": [
        "from __future__ import print_function\n",
        "import mxnet as mx\n",
        "from mxnet import nd, autograd, gluon"
      ],
      "execution_count": 0,
      "outputs": []
    },
    {
      "cell_type": "markdown",
      "metadata": {
        "id": "bU3MApA0aKSj",
        "colab_type": "text"
      },
      "source": [
        "## Set the context\n",
        "\n",
        "We'll also want to set a context to tell gluon where to do most of the computation."
      ]
    },
    {
      "cell_type": "code",
      "metadata": {
        "id": "1Fts_8KUaKSl",
        "colab_type": "code",
        "colab": {}
      },
      "source": [
        "data_ctx = mx.cpu()\n",
        "model_ctx = mx.cpu()"
      ],
      "execution_count": 0,
      "outputs": []
    },
    {
      "cell_type": "markdown",
      "metadata": {
        "id": "mGcZkwKyaKSs",
        "colab_type": "text"
      },
      "source": [
        "## Build the dataset\n",
        "\n",
        "Again we'll look at the problem of linear regression and stick with the same synthetic data. "
      ]
    },
    {
      "cell_type": "code",
      "metadata": {
        "id": "l0qAD5DoaKSv",
        "colab_type": "code",
        "colab": {}
      },
      "source": [
        "num_inputs = 2\n",
        "num_outputs = 1\n",
        "num_examples = 10000\n",
        "\n",
        "def real_fn(X):\n",
        "    return 2 * X[:, 0] - 3.4 * X[:, 1] + 4.2\n",
        "    \n",
        "X = nd.random_normal(shape=(num_examples, num_inputs))\n",
        "noise = 0.01 * nd.random_normal(shape=(num_examples,))\n",
        "y = real_fn(X) + noise"
      ],
      "execution_count": 0,
      "outputs": []
    },
    {
      "cell_type": "markdown",
      "metadata": {
        "id": "YfNIpXo8aKS4",
        "colab_type": "text"
      },
      "source": [
        "## Load the data iterator\n",
        "\n",
        "We'll stick with the ``DataLoader`` for handling our data batching."
      ]
    },
    {
      "cell_type": "code",
      "metadata": {
        "id": "sinuPek-aKS6",
        "colab_type": "code",
        "colab": {}
      },
      "source": [
        "batch_size = 4\n",
        "train_data = gluon.data.DataLoader(gluon.data.ArrayDataset(X, y),\n",
        "                                      batch_size=batch_size, shuffle=True)"
      ],
      "execution_count": 0,
      "outputs": []
    },
    {
      "cell_type": "markdown",
      "metadata": {
        "id": "cxp8WNKUaKTD",
        "colab_type": "text"
      },
      "source": [
        "## Define the model\n",
        "\n",
        "When we implemented things from scratch, \n",
        "we had to individually allocate parameters \n",
        "and then compose them together as a model. \n",
        "While it's good to know how to do things from scratch, \n",
        "with `gluon`, we can just compose a network from predefined layers. \n",
        "For a linear model, the appropriate layer is called `Dense`. \n",
        "It's called a *dense* layer because every node in the input \n",
        "is connected to every node in the subsequent layer. \n",
        "That description seems excessive \n",
        "because we only have one (non-input) layer here, \n",
        "and that layer only contains one node!\n",
        "But in subsequent chapters we'll typically work \n",
        "with networks that have multiple outputs, \n",
        "so we might as well start thinking in terms of layers of nodes. \n",
        "Because a linear model consists of just a single `Dense` layer, we can instantiate it with one line.\n",
        "\n",
        "As in [the previous notebook](linear-regression-scratch.ipynb), \n",
        "we have an input dimension of 2 and an output dimension of 1. \n",
        "the most direct way to instantiate a ``Dense`` layer with these dimensions\n",
        "is to specify the number of inputs and the number of outputs. "
      ]
    },
    {
      "cell_type": "code",
      "metadata": {
        "id": "B1d3pH0CaKTF",
        "colab_type": "code",
        "colab": {}
      },
      "source": [
        "net = gluon.nn.Dense(1, in_units=2)"
      ],
      "execution_count": 0,
      "outputs": []
    },
    {
      "cell_type": "markdown",
      "metadata": {
        "id": "17ocGDv7aKTM",
        "colab_type": "text"
      },
      "source": [
        "That's it! We've already got a neural network. \n",
        "Like our hand-crafted model in the previous notebook, \n",
        "this model has a weight matrix and bias vector."
      ]
    },
    {
      "cell_type": "code",
      "metadata": {
        "id": "wLUiSUBLaKTO",
        "colab_type": "code",
        "colab": {
          "base_uri": "https://localhost:8080/",
          "height": 51
        },
        "outputId": "b1e134f7-4c75-446a-ba3c-f2e8dee218cb"
      },
      "source": [
        "print(net.weight)\n",
        "print(net.bias)"
      ],
      "execution_count": 6,
      "outputs": [
        {
          "output_type": "stream",
          "text": [
            "Parameter dense0_weight (shape=(1, 2), dtype=float32)\n",
            "Parameter dense0_bias (shape=(1,), dtype=float32)\n"
          ],
          "name": "stdout"
        }
      ]
    },
    {
      "cell_type": "markdown",
      "metadata": {
        "id": "1K-HHUQoaKTe",
        "colab_type": "text"
      },
      "source": [
        "Here, `net.weight` and `net.bias` are not actually NDArrays.\n",
        "They are instances of the `Parameter` class.\n",
        "We use `Parameter` instead of directly accessing NDAarrays for several reasons. \n",
        "For example, they provide convenient abstractions for initializing values.\n",
        "Unlike NDArrays, Parameters can be associated with multiple contexts simultaneously.\n",
        "This will come in handy in future chapters when we start thinking about distributed learning across multiple GPUs.\n",
        "\n",
        "In `gluon`, all neural networks are made out of Blocks (`gluon.Block`).\n",
        "Blocks are just units that take inputs and generate outputs.\n",
        "Blocks also contain parameters that we can update. \n",
        "Here, our network consists of only one layer, \n",
        "so it's convenient to access our parameters directly. \n",
        "When our networks consist of 10s of layers, this won't be so fun.\n",
        "No matter how complex our network, \n",
        "we can grab all its parameters by calling `collect_params()` as follows:"
      ]
    },
    {
      "cell_type": "code",
      "metadata": {
        "id": "RXpso0uzaKTh",
        "colab_type": "code",
        "colab": {
          "base_uri": "https://localhost:8080/",
          "height": 85
        },
        "outputId": "ccb59d57-2cc8-41b9-dcee-12095fc74701"
      },
      "source": [
        "net.collect_params()"
      ],
      "execution_count": 7,
      "outputs": [
        {
          "output_type": "execute_result",
          "data": {
            "text/plain": [
              "dense0_ (\n",
              "  Parameter dense0_weight (shape=(1, 2), dtype=float32)\n",
              "  Parameter dense0_bias (shape=(1,), dtype=float32)\n",
              ")"
            ]
          },
          "metadata": {
            "tags": []
          },
          "execution_count": 7
        }
      ]
    },
    {
      "cell_type": "markdown",
      "metadata": {
        "id": "Sm6ZE6IDaKTr",
        "colab_type": "text"
      },
      "source": [
        "The returned object is a `gluon.parameter.ParameterDict`. \n",
        "This is a convenient abstraction for retrieving and manipulating groups of Parameter objects.\n",
        "Most often, we'll want to retrieve all of the parameters in a neural network:"
      ]
    },
    {
      "cell_type": "code",
      "metadata": {
        "id": "K8j5pMzsaKTu",
        "colab_type": "code",
        "colab": {
          "base_uri": "https://localhost:8080/",
          "height": 34
        },
        "outputId": "22a85360-2a47-479f-a8f9-fc13827dbdf4"
      },
      "source": [
        "type(net.collect_params())"
      ],
      "execution_count": 8,
      "outputs": [
        {
          "output_type": "execute_result",
          "data": {
            "text/plain": [
              "mxnet.gluon.parameter.ParameterDict"
            ]
          },
          "metadata": {
            "tags": []
          },
          "execution_count": 8
        }
      ]
    },
    {
      "cell_type": "markdown",
      "metadata": {
        "id": "D1t06ztPaKT5",
        "colab_type": "text"
      },
      "source": [
        "## Initialize parameters\n",
        "Once we initialize our Parameters, we can access their underlying data and context(s),\n",
        "and we can also feed data through the neural network to generate output.\n",
        "However, we can't get going just yet. \n",
        "If we try invoking your model by calling ``net(nd.array([[0,1]]))``, \n",
        "we'll confront the following hideous error message:\n",
        "\n",
        "```RuntimeError: Parameter dense1_weight has not been initialized...```\n",
        "\n",
        "That's because we haven't yet told ``gluon`` what the *initial values* for our parameters should be!\n",
        "We initialize parameters by calling the `.initialize()` method of a ParameterDict. \n",
        "We'll need to pass in two arguments. \n",
        "\n",
        "* An initializer, many of which live in the `mx.init` module. \n",
        "* A context where the parameters should live. In this case we'll pass in the `model_ctx`. Most often this will either be a GPU or a list of GPUs. \n",
        "\n",
        "*MXNet* provides a variety of common initializers in ``mxnet.init``.\n",
        "To keep things consistent with the model we built by hand, \n",
        "we'll initialize each parameter by sampling from a standard normal distribution, \n",
        "using `mx.init.Normal(sigma=1.)`."
      ]
    },
    {
      "cell_type": "code",
      "metadata": {
        "id": "Qx8b_lewaKT7",
        "colab_type": "code",
        "colab": {}
      },
      "source": [
        "net.collect_params().initialize(mx.init.Normal(sigma=1.), ctx=model_ctx)"
      ],
      "execution_count": 0,
      "outputs": []
    },
    {
      "cell_type": "markdown",
      "metadata": {
        "id": "9jwTQMebaKUD",
        "colab_type": "text"
      },
      "source": [
        "## Deferred Initialization\n",
        "\n",
        "When we call ``initialize``, ``gluon`` associates each parameter with an initializer.\n",
        "However, the *actual initialization* is deferred until we make a first forward pass. \n",
        "In other words, the parameters are only initialized when they're needed. \n",
        "If we try to call `net.weight.data()` we'll get the following error:\n",
        "\n",
        "``DeferredInitializationError: Parameter dense2_weight has not been initialized yet because initialization was deferred. Actual initialization happens during the first forward pass. Please pass one batch of data through the network before accessing Parameters.``\n",
        "\n",
        "Passing data through a `gluon` model is easy. \n",
        "We just sample a batch of the appropriate shape and call `net` \n",
        "just as if it were a function. \n",
        "This will invoke `net`'s `forward()` method."
      ]
    },
    {
      "cell_type": "code",
      "metadata": {
        "id": "7X4DpiqiaKUF",
        "colab_type": "code",
        "colab": {
          "base_uri": "https://localhost:8080/",
          "height": 68
        },
        "outputId": "fe4903b0-ab39-413d-839a-b22ce8558872"
      },
      "source": [
        "example_data = nd.array([[4,7]])\n",
        "net(example_data)"
      ],
      "execution_count": 10,
      "outputs": [
        {
          "output_type": "execute_result",
          "data": {
            "text/plain": [
              "\n",
              "[[-4.2225966]]\n",
              "<NDArray 1x1 @cpu(0)>"
            ]
          },
          "metadata": {
            "tags": []
          },
          "execution_count": 10
        }
      ]
    },
    {
      "cell_type": "markdown",
      "metadata": {
        "id": "3Beoj6IjaKUO",
        "colab_type": "text"
      },
      "source": [
        "Now that `net` is initialized, we can access each of its parameters. "
      ]
    },
    {
      "cell_type": "code",
      "metadata": {
        "id": "YZYKaPAIaKUR",
        "colab_type": "code",
        "colab": {
          "base_uri": "https://localhost:8080/",
          "height": 119
        },
        "outputId": "79d30112-cc72-4ad0-f8fb-01432f94e602"
      },
      "source": [
        "print(net.weight.data())\n",
        "print(net.bias.data())"
      ],
      "execution_count": 11,
      "outputs": [
        {
          "output_type": "stream",
          "text": [
            "\n",
            "[[-0.34304565 -0.40720204]]\n",
            "<NDArray 1x2 @cpu(0)>\n",
            "\n",
            "[0.]\n",
            "<NDArray 1 @cpu(0)>\n"
          ],
          "name": "stdout"
        }
      ]
    },
    {
      "cell_type": "markdown",
      "metadata": {
        "id": "yWM-tRVWaKUe",
        "colab_type": "text"
      },
      "source": [
        "## Shape inference\n",
        "\n",
        "Recall that previously, we instantiated our network with `gluon.nn.Dense(1, in_units=2)`. \n",
        "One slick feature that we can take advantage of in ``gluon`` is shape inference on parameters. \n",
        "Because our parameters never come into action until we pass data through the network,\n",
        "we don't actually have to declare the input dimension (`in_units`). \n",
        "Let's try this again, but letting `gluon` do more of the work:"
      ]
    },
    {
      "cell_type": "code",
      "metadata": {
        "id": "cgyVQvCQaKUg",
        "colab_type": "code",
        "colab": {}
      },
      "source": [
        "net = gluon.nn.Dense(1)\n",
        "net.collect_params().initialize(mx.init.Normal(sigma=1.), ctx=model_ctx)"
      ],
      "execution_count": 0,
      "outputs": []
    },
    {
      "cell_type": "markdown",
      "metadata": {
        "id": "XhbOdXgKaKUo",
        "colab_type": "text"
      },
      "source": [
        "We'll elaborate on this and more of ``gluon``'s internal workings in subsequent chapters."
      ]
    },
    {
      "cell_type": "markdown",
      "metadata": {
        "id": "J_bv-lu7aKUq",
        "colab_type": "text"
      },
      "source": [
        "## Define loss\n",
        "\n",
        "Instead of writing our own loss function we're just going to access squared error by instantiating ``gluon.loss.L2Loss``. Just like layers, and whole networks, a loss in gluon is just a `Block`."
      ]
    },
    {
      "cell_type": "code",
      "metadata": {
        "id": "ceWrA8Q-aKUs",
        "colab_type": "code",
        "colab": {}
      },
      "source": [
        "square_loss = gluon.loss.L2Loss()"
      ],
      "execution_count": 0,
      "outputs": []
    },
    {
      "cell_type": "markdown",
      "metadata": {
        "id": "AdjpcQR7aKU9",
        "colab_type": "text"
      },
      "source": [
        "## Optimizer\n",
        "Instead of writing stochastic gradient descent from scratch every time, we can instantiate a ``gluon.Trainer``, passing it a dictionary of parameters. Note that the ``SGD`` optimizer in ``gluon`` also has a few bells and whistles that you can turn on at will, including *momentum* and *clipping* (both are switched off by default). These modifications can help to converge faster and we'll discuss them later when we go over a variety of optimization algorithms in detail."
      ]
    },
    {
      "cell_type": "code",
      "metadata": {
        "id": "PuFyYz0taKU_",
        "colab_type": "code",
        "colab": {}
      },
      "source": [
        "trainer = gluon.Trainer(net.collect_params(), 'sgd', {'learning_rate': 0.0001})"
      ],
      "execution_count": 0,
      "outputs": []
    },
    {
      "cell_type": "markdown",
      "metadata": {
        "id": "9Q5XvhT0aKVQ",
        "colab_type": "text"
      },
      "source": [
        "## Execute training loop\n",
        "\n",
        "You might have noticed that it was a bit more concise to express our model in ``gluon``. For example, we didn't have to individually allocate parameters, define our loss function, or implement stochastic gradient descent. The benefits of relying on ``gluon``'s abstractions will grow substantially once we start working with much more complex models. But once we have all the basic pieces in place, the training loop itself is quite similar to what we would do if implementing everything from scratch. \n",
        "\n",
        "To refresh your memory. For some number of ``epochs``, we'll make a complete pass over the dataset (``train_data``), grabbing one mini-batch of inputs and the corresponding ground-truth labels at a time. \n",
        "\n",
        "Then, for each batch, we'll go through the following ritual. So that this process becomes maximally ritualistic, we'll repeat it verbatim:\n",
        "\n",
        "* Generate predictions (``yhat``) and the loss (``loss``) by executing a forward pass through the network.\n",
        "* Calculate gradients by making a backwards pass through the network via ``loss.backward()``. \n",
        "* Update the model parameters by invoking our SGD optimizer (note that we need not tell ``trainer.step`` about which parameters but rather just the amount of data, since we already performed that in the initialization of ``trainer``).\n",
        "\n"
      ]
    },
    {
      "cell_type": "code",
      "metadata": {
        "id": "uHTa5ayDaKVV",
        "colab_type": "code",
        "colab": {
          "base_uri": "https://localhost:8080/",
          "height": 187
        },
        "outputId": "9f3cdf11-c3ba-491c-e207-d6f94d711c43"
      },
      "source": [
        "epochs = 10\n",
        "loss_sequence = []\n",
        "num_batches = num_examples / batch_size\n",
        "\n",
        "for e in range(epochs):\n",
        "    cumulative_loss = 0\n",
        "    # inner loop\n",
        "    for i, (data, label) in enumerate(train_data):\n",
        "        data = data.as_in_context(model_ctx)\n",
        "        label = label.as_in_context(model_ctx)\n",
        "        with autograd.record():\n",
        "            output = net(data)\n",
        "            loss = square_loss(output, label)\n",
        "        loss.backward()\n",
        "        trainer.step(batch_size)\n",
        "        cumulative_loss += nd.mean(loss).asscalar()\n",
        "    print(\"Epoch %s, loss: %s\" % (e, cumulative_loss / num_examples))\n",
        "    loss_sequence.append(cumulative_loss)\n"
      ],
      "execution_count": 15,
      "outputs": [
        {
          "output_type": "stream",
          "text": [
            "Epoch 0, loss: 3.7838223382338882\n",
            "Epoch 1, loss: 2.295751029829681\n",
            "Epoch 2, loss: 1.3929299007309601\n",
            "Epoch 3, loss: 0.8451635369189083\n",
            "Epoch 4, loss: 0.5128207484468817\n",
            "Epoch 5, loss: 0.3111733555909246\n",
            "Epoch 6, loss: 0.18882023844281212\n",
            "Epoch 7, loss: 0.11458014029506594\n",
            "Epoch 8, loss: 0.06953350922516548\n",
            "Epoch 9, loss: 0.04219948087274097\n"
          ],
          "name": "stdout"
        }
      ]
    },
    {
      "cell_type": "markdown",
      "metadata": {
        "id": "8X9UU4dTaKVf",
        "colab_type": "text"
      },
      "source": [
        "## Visualizing the learning curve\n",
        "Now let's check how quickly SGD learns the linear regression model by plotting the learning curve."
      ]
    },
    {
      "cell_type": "code",
      "metadata": {
        "id": "VKzmO-KBaKVh",
        "colab_type": "code",
        "colab": {
          "base_uri": "https://localhost:8080/",
          "height": 413
        },
        "outputId": "ffefd5c2-8e2e-4a6b-8281-a1b4b5ce02a9"
      },
      "source": [
        "# plot the convergence of the estimated loss function \n",
        "%matplotlib inline\n",
        "\n",
        "import matplotlib\n",
        "import matplotlib.pyplot as plt\n",
        "\n",
        "plt.figure(num=None,figsize=(8, 6))\n",
        "plt.plot(loss_sequence)\n",
        "\n",
        "# Adding some bells and whistles to the plot\n",
        "plt.grid(True, which=\"both\")\n",
        "plt.xlabel('epoch',fontsize=14)\n",
        "plt.ylabel('average loss',fontsize=14)"
      ],
      "execution_count": 16,
      "outputs": [
        {
          "output_type": "execute_result",
          "data": {
            "text/plain": [
              "Text(0, 0.5, 'average loss')"
            ]
          },
          "metadata": {
            "tags": []
          },
          "execution_count": 16
        },
        {
          "output_type": "display_data",
          "data": {
            "image/png": "[encoded data removed]",
            "text/plain": [
              "<Figure size 576x432 with 1 Axes>"
            ]
          },
          "metadata": {
            "tags": []
          }
        }
      ]
    },
    {
      "cell_type": "markdown",
      "metadata": {
        "id": "4bAa5bp0aKVp",
        "colab_type": "text"
      },
      "source": [
        "As we can see, the loss function converges quickly to the optimal solution."
      ]
    },
    {
      "cell_type": "markdown",
      "metadata": {
        "id": "pTZHriCiaKVr",
        "colab_type": "text"
      },
      "source": [
        "## Getting the learned model parameters\n",
        "\n",
        "As an additional sanity check, since we generated the data from a Gaussian linear regression model, we want to make sure that the learner managed to recover the model parameters, which were set to weight $2,-3.4$ with an offset of $4.2$.\n",
        "    "
      ]
    },
    {
      "cell_type": "code",
      "metadata": {
        "id": "GnA15QbIaKVt",
        "colab_type": "code",
        "colab": {
          "base_uri": "https://localhost:8080/",
          "height": 136
        },
        "outputId": "de561ddb-84d0-43d4-b972-a9d374e436b5"
      },
      "source": [
        "params = net.collect_params() # this returns a ParameterDict\n",
        "\n",
        "print('The type of \"params\" is a ',type(params))\n",
        "\n",
        "# A ParameterDict is a dictionary of Parameter class objects\n",
        "# therefore, here is how we can read off the parameters from it.\n",
        "\n",
        "for param in params.values():\n",
        "    print(param.name,param.data())"
      ],
      "execution_count": 17,
      "outputs": [
        {
          "output_type": "stream",
          "text": [
            "The type of \"params\" is a  <class 'mxnet.gluon.parameter.ParameterDict'>\n",
            "dense1_weight \n",
            "[[ 1.8882    -3.0423403]]\n",
            "<NDArray 1x2 @cpu(0)>\n",
            "dense1_bias \n",
            "[3.8534827]\n",
            "<NDArray 1 @cpu(0)>\n"
          ],
          "name": "stdout"
        }
      ]
    },
    {
      "cell_type": "markdown",
      "metadata": {
        "id": "LrFAU7p4aKV1",
        "colab_type": "text"
      },
      "source": [
        "## Conclusion \n",
        "\n",
        "As you can see, even for a simple example like linear regression, ``gluon`` can help you to write quick and clean code. Next, we'll repeat this exercise for multi-layer perceptrons, extending these lessons to deep neural networks and (comparatively) real datasets. "
      ]
    },
    {
      "cell_type": "markdown",
      "metadata": {
        "id": "hkJSk7ZLaKV4",
        "colab_type": "text"
      },
      "source": [
        "## Next\n",
        "[Binary classification with logistic regression](../chapter02_supervised-learning/logistic-regression-gluon.ipynb)"
      ]
    },
    {
      "cell_type": "markdown",
      "metadata": {
        "collapsed": true,
        "id": "_D0NeXugaKV6",
        "colab_type": "text"
      },
      "source": [
        "For whinges or inquiries, [open an issue on  GitHub.](https://github.com/zackchase/mxnet-the-straight-dope)"
      ]
    }
  ]
}