{
  "nbformat": 4,
  "nbformat_minor": 0,
  "metadata": {
    "colab": {
      "name": "chapter-one-problem-set.ipynb",
      "version": "0.3.2",
      "provenance": []
    },
    "language_info": {
      "codemirror_mode": {
        "name": "ipython",
        "version": 3
      },
      "file_extension": ".py",
      "mimetype": "text/x-python",
      "name": "python",
      "nbconvert_exporter": "python",
      "pygments_lexer": "ipython3",
      "version": "3.6.4"
    },
    "kernelspec": {
      "name": "python3",
      "display_name": "Python 3"
    },
    "accelerator": "GPU"
  },
  "cells": [
    {
      "metadata": {
        "id": "B4SNuB4hG2Wz",
        "colab_type": "code",
        "colab": {
          "base_uri": "https://localhost:8080/",
          "height": 568
        },
        "outputId": "7c6a43eb-f464-4c40-dcc8-f8a6f246cebc"
      },
      "cell_type": "code",
      "source": [
        "!pip install mxnet-cu100"
      ],
      "execution_count": 1,
      "outputs": [
        {
          "output_type": "stream",
          "text": [
            "Collecting mxnet-cu100\n",
            "\u001b[?25l  Downloading https://files.pythonhosted.org/packages/ae/36/40b6d201b46495513f7a7fa25fe8b7d85b3602a22efba119e8146d5f1601/mxnet_cu100-1.4.0.post0-py2.py3-none-manylinux1_x86_64.whl (487.9MB)\n",
            "\u001b[K    100% |████████████████████████████████| 487.9MB 32kB/s \n",
            "\u001b[?25hRequirement already satisfied: requests>=2.20.0 in /usr/local/lib/python3.6/dist-packages (from mxnet-cu100) (2.21.0)\n",
            "Collecting numpy<1.15.0,>=1.8.2 (from mxnet-cu100)\n",
            "\u001b[?25l  Downloading https://files.pythonhosted.org/packages/e5/c4/395ebb218053ba44d64935b3729bc88241ec279915e72100c5979db10945/numpy-1.14.6-cp36-cp36m-manylinux1_x86_64.whl (13.8MB)\n",
            "\u001b[K    100% |████████████████████████████████| 13.8MB 2.8MB/s \n",
            "\u001b[?25hCollecting graphviz<0.9.0,>=0.8.1 (from mxnet-cu100)\n",
            "  Downloading https://files.pythonhosted.org/packages/53/39/4ab213673844e0c004bed8a0781a0721a3f6bb23eb8854ee75c236428892/graphviz-0.8.4-py2.py3-none-any.whl\n",
            "Requirement already satisfied: idna<2.9,>=2.5 in /usr/local/lib/python3.6/dist-packages (from requests>=2.20.0->mxnet-cu100) (2.8)\n",
            "Requirement already satisfied: chardet<3.1.0,>=3.0.2 in /usr/local/lib/python3.6/dist-packages (from requests>=2.20.0->mxnet-cu100) (3.0.4)\n",
            "Requirement already satisfied: certifi>=2017.4.17 in /usr/local/lib/python3.6/dist-packages (from requests>=2.20.0->mxnet-cu100) (2019.3.9)\n",
            "Requirement already satisfied: urllib3<1.25,>=1.21.1 in /usr/local/lib/python3.6/dist-packages (from requests>=2.20.0->mxnet-cu100) (1.24.2)\n",
            "\u001b[31mspacy 2.0.18 has requirement numpy>=1.15.0, but you'll have numpy 1.14.6 which is incompatible.\u001b[0m\n",
            "\u001b[31mimgaug 0.2.8 has requirement numpy>=1.15.0, but you'll have numpy 1.14.6 which is incompatible.\u001b[0m\n",
            "\u001b[31mfastai 1.0.51 has requirement numpy>=1.15, but you'll have numpy 1.14.6 which is incompatible.\u001b[0m\n",
            "\u001b[31mdatascience 0.10.6 has requirement folium==0.2.1, but you'll have folium 0.8.3 which is incompatible.\u001b[0m\n",
            "\u001b[31malbumentations 0.1.12 has requirement imgaug<0.2.7,>=0.2.5, but you'll have imgaug 0.2.8 which is incompatible.\u001b[0m\n",
            "Installing collected packages: numpy, graphviz, mxnet-cu100\n",
            "  Found existing installation: numpy 1.16.3\n",
            "    Uninstalling numpy-1.16.3:\n",
            "      Successfully uninstalled numpy-1.16.3\n",
            "  Found existing installation: graphviz 0.10.1\n",
            "    Uninstalling graphviz-0.10.1:\n",
            "      Successfully uninstalled graphviz-0.10.1\n",
            "Successfully installed graphviz-0.8.4 mxnet-cu100-1.4.0.post0 numpy-1.14.6\n"
          ],
          "name": "stdout"
        },
        {
          "output_type": "display_data",
          "data": {
            "application/vnd.colab-display-data+json": {
              "pip_warning": {
                "packages": [
                  "numpy"
                ]
              }
            }
          },
          "metadata": {
            "tags": []
          }
        }
      ]
    },
    {
      "metadata": {
        "id": "EDoVYpnNGZDz",
        "colab_type": "text"
      },
      "cell_type": "markdown",
      "source": [
        "# Problem Set \n",
        "\n",
        "\"For the things we have to learn before we can do them, we learn by doing them.\" - Aristotle\n",
        "\n",
        "There's nothing quite like working with a new tool to really understand it, so we have put together some exercises through this book to give you a chance to put into practice what you learned in the previous lesson(s). "
      ]
    },
    {
      "metadata": {
        "id": "EmirtJXoGZD5",
        "colab_type": "text"
      },
      "cell_type": "markdown",
      "source": [
        "## Problems using NDarray [(Official Documentation)](https://mxnet.incubator.apache.org/api/python/ndarray/ndarray.html) \n",
        "\n",
        "\n",
        "Problem 1: Initialize an ndarray of dimension 1x256 on the GPU without overwriting its memory. Then, find the index corresponding to the maximum value in the array (argmax)"
      ]
    },
    {
      "metadata": {
        "id": "orQsoWZ2GZD8",
        "colab_type": "code",
        "colab": {
          "base_uri": "https://localhost:8080/",
          "height": 68
        },
        "outputId": "fa613f63-230d-4530-f08c-13a001522683"
      },
      "cell_type": "code",
      "source": [
        "# Problem 1 Work Area\n",
        "import mxnet as mx\n",
        "from mxnet import nd\n",
        "\n",
        "mx.random.seed(1)\n",
        "x = nd.random.randn(1,256, ctx=mx.gpu(0))\n",
        "x.argmax(axis=1)"
      ],
      "execution_count": 2,
      "outputs": [
        {
          "output_type": "execute_result",
          "data": {
            "text/plain": [
              "\n",
              "[202.]\n",
              "<NDArray 1 @gpu(0)>"
            ]
          },
          "metadata": {
            "tags": []
          },
          "execution_count": 2
        }
      ]
    },
    {
      "metadata": {
        "id": "ud03OpkOGZEH",
        "colab_type": "text"
      },
      "cell_type": "markdown",
      "source": [
        "## Problems from Linear Algebra\n",
        "\n",
        "Problem 2: Create a 4x4 matrix of random values (where values are uniformly random on the iterval [0,1]. Then create an 4x4 identity matrix (an identity of size n is the n × n square matrix with ones on the main diagonal and zeros elsewhere). Multiply the two together and verify that you get the original matrix back."
      ]
    },
    {
      "metadata": {
        "id": "GEwSO-vgGZEJ",
        "colab_type": "code",
        "colab": {
          "base_uri": "https://localhost:8080/",
          "height": 323
        },
        "outputId": "f066b488-a41c-49eb-b2e5-372d73fbb48d"
      },
      "cell_type": "code",
      "source": [
        "# Problem 2 Work Area\n",
        "x = nd.random_uniform(low=0, high=1, shape=(4,4))\n",
        "print(\"4x4 random uniform 0 to 1\", x)\n",
        "i = nd.eye(4)\n",
        "print(\"Idenity Maxtix\", i)\n",
        "y = nd.dot(x, i)\n",
        "print(\"Multitiplied matrix\", x)\n"
      ],
      "execution_count": 30,
      "outputs": [
        {
          "output_type": "stream",
          "text": [
            "4x4 random uniform 0 to 1 \n",
            "[[0.90397274 0.13232368 0.8264274  0.94795954]\n",
            " [0.8003219  0.07437668 0.01415035 0.25155556]\n",
            " [0.96422124 0.94468296 0.836694   0.71314424]\n",
            " [0.6052875  0.48089513 0.2655972  0.11031964]]\n",
            "<NDArray 4x4 @cpu(0)>\n",
            "Idenity Maxtix \n",
            "[[1. 0. 0. 0.]\n",
            " [0. 1. 0. 0.]\n",
            " [0. 0. 1. 0.]\n",
            " [0. 0. 0. 1.]]\n",
            "<NDArray 4x4 @cpu(0)>\n",
            "Multitiplied matrix \n",
            "[[0.90397274 0.13232368 0.8264274  0.94795954]\n",
            " [0.8003219  0.07437668 0.01415035 0.25155556]\n",
            " [0.96422124 0.94468296 0.836694   0.71314424]\n",
            " [0.6052875  0.48089513 0.2655972  0.11031964]]\n",
            "<NDArray 4x4 @cpu(0)>\n"
          ],
          "name": "stdout"
        }
      ]
    },
    {
      "metadata": {
        "id": "CS1uRLHqGZER",
        "colab_type": "text"
      },
      "cell_type": "markdown",
      "source": [
        "Problem 3: Create a 3x3x20 tensor such that at every x,y coordinate, moving through the z coordinate lists the [Fibonacci sequence](https://en.wikipedia.org/wiki/Fibonacci_number). So, at a z position of 0, the 3x3 matrix will be all 1s. At z-position 1, the 3x3 matrix will be all 1s. At z-position 2, the 3x3 matrix will be all 2s, at z-position 3, the 3x3 matrix will be all 3s and so forth.\n",
        "\n",
        "Hint: Create the first 2 matrices by hand and then use element-wise operations in a loop to construct the rest of the tensor. "
      ]
    },
    {
      "metadata": {
        "id": "Z-Zv2xTgGZEU",
        "colab_type": "code",
        "colab": {
          "base_uri": "https://localhost:8080/",
          "height": 561
        },
        "outputId": "f404d3da-c47b-4c53-d6a8-16350fc01ce0"
      },
      "cell_type": "code",
      "source": [
        "# Problem 3 Work Area\n",
        "x = nd.ones(shape=(3,3,20))\n",
        "print(x.shape)\n",
        "for i in range(2,x.shape[2]):\n",
        "    x[:,:,i]=x[:,:,i-1] + x[:,:,i-2]\n",
        "print(\"Fib Tensor\", x)"
      ],
      "execution_count": 35,
      "outputs": [
        {
          "output_type": "stream",
          "text": [
            "(3, 3, 20)\n",
            "Fib Tensor \n",
            "[[[1.000e+00 1.000e+00 2.000e+00 3.000e+00 5.000e+00 8.000e+00 1.300e+01\n",
            "   2.100e+01 3.400e+01 5.500e+01 8.900e+01 1.440e+02 2.330e+02 3.770e+02\n",
            "   6.100e+02 9.870e+02 1.597e+03 2.584e+03 4.181e+03 6.765e+03]\n",
            "  [1.000e+00 1.000e+00 2.000e+00 3.000e+00 5.000e+00 8.000e+00 1.300e+01\n",
            "   2.100e+01 3.400e+01 5.500e+01 8.900e+01 1.440e+02 2.330e+02 3.770e+02\n",
            "   6.100e+02 9.870e+02 1.597e+03 2.584e+03 4.181e+03 6.765e+03]\n",
            "  [1.000e+00 1.000e+00 2.000e+00 3.000e+00 5.000e+00 8.000e+00 1.300e+01\n",
            "   2.100e+01 3.400e+01 5.500e+01 8.900e+01 1.440e+02 2.330e+02 3.770e+02\n",
            "   6.100e+02 9.870e+02 1.597e+03 2.584e+03 4.181e+03 6.765e+03]]\n",
            "\n",
            " [[1.000e+00 1.000e+00 2.000e+00 3.000e+00 5.000e+00 8.000e+00 1.300e+01\n",
            "   2.100e+01 3.400e+01 5.500e+01 8.900e+01 1.440e+02 2.330e+02 3.770e+02\n",
            "   6.100e+02 9.870e+02 1.597e+03 2.584e+03 4.181e+03 6.765e+03]\n",
            "  [1.000e+00 1.000e+00 2.000e+00 3.000e+00 5.000e+00 8.000e+00 1.300e+01\n",
            "   2.100e+01 3.400e+01 5.500e+01 8.900e+01 1.440e+02 2.330e+02 3.770e+02\n",
            "   6.100e+02 9.870e+02 1.597e+03 2.584e+03 4.181e+03 6.765e+03]\n",
            "  [1.000e+00 1.000e+00 2.000e+00 3.000e+00 5.000e+00 8.000e+00 1.300e+01\n",
            "   2.100e+01 3.400e+01 5.500e+01 8.900e+01 1.440e+02 2.330e+02 3.770e+02\n",
            "   6.100e+02 9.870e+02 1.597e+03 2.584e+03 4.181e+03 6.765e+03]]\n",
            "\n",
            " [[1.000e+00 1.000e+00 2.000e+00 3.000e+00 5.000e+00 8.000e+00 1.300e+01\n",
            "   2.100e+01 3.400e+01 5.500e+01 8.900e+01 1.440e+02 2.330e+02 3.770e+02\n",
            "   6.100e+02 9.870e+02 1.597e+03 2.584e+03 4.181e+03 6.765e+03]\n",
            "  [1.000e+00 1.000e+00 2.000e+00 3.000e+00 5.000e+00 8.000e+00 1.300e+01\n",
            "   2.100e+01 3.400e+01 5.500e+01 8.900e+01 1.440e+02 2.330e+02 3.770e+02\n",
            "   6.100e+02 9.870e+02 1.597e+03 2.584e+03 4.181e+03 6.765e+03]\n",
            "  [1.000e+00 1.000e+00 2.000e+00 3.000e+00 5.000e+00 8.000e+00 1.300e+01\n",
            "   2.100e+01 3.400e+01 5.500e+01 8.900e+01 1.440e+02 2.330e+02 3.770e+02\n",
            "   6.100e+02 9.870e+02 1.597e+03 2.584e+03 4.181e+03 6.765e+03]]]\n",
            "<NDArray 3x3x20 @cpu(0)>\n"
          ],
          "name": "stdout"
        }
      ]
    },
    {
      "metadata": {
        "id": "x-W8QRqwGZEb",
        "colab_type": "text"
      },
      "cell_type": "markdown",
      "source": [
        "Problem 4: What is the sum of the vector you created? What is the mean?"
      ]
    },
    {
      "metadata": {
        "id": "ST5VWCjcGZEd",
        "colab_type": "code",
        "colab": {
          "base_uri": "https://localhost:8080/",
          "height": 119
        },
        "outputId": "7022d7fe-e1ad-4d0c-fafc-568ba09c2504"
      },
      "cell_type": "code",
      "source": [
        "# Problem 4 Work Area\n",
        "print(\"Sum:\", nd.sum(x))\n",
        "print(\"Mean\", nd.mean(x))"
      ],
      "execution_count": 36,
      "outputs": [
        {
          "output_type": "stream",
          "text": [
            "Sum: \n",
            "[159390.]\n",
            "<NDArray 1 @cpu(0)>\n",
            "Mean \n",
            "[885.5]\n",
            "<NDArray 1 @cpu(0)>\n"
          ],
          "name": "stdout"
        }
      ]
    },
    {
      "metadata": {
        "id": "6J0sNX9dGZEl",
        "colab_type": "text"
      },
      "cell_type": "markdown",
      "source": [
        "Problem 5: Create a vector [0,1], and another vector [1,0], and use mxnet to calculate the angle between them. Remember that the dot product of two vectors is equal to the cossine of the angle between the vectors, and that the arccos function is the inverse of cosine."
      ]
    },
    {
      "metadata": {
        "id": "f7ZVvAAIGZEo",
        "colab_type": "code",
        "colab": {
          "base_uri": "https://localhost:8080/",
          "height": 68
        },
        "outputId": "4bfd7dfb-9a0d-418a-8112-113cd7c0d89d"
      },
      "cell_type": "code",
      "source": [
        "# Problem 5 Work Area\n",
        "import numpy as np\n",
        "x = nd.array([0,1])\n",
        "y = nd.array([1,0])\n",
        "\n",
        "degrees = (nd.arccos(nd.dot(x,y))/np.pi)*180\n",
        "print(\"Angle between arrays: \", degrees)"
      ],
      "execution_count": 43,
      "outputs": [
        {
          "output_type": "stream",
          "text": [
            "Angle between arrays:  \n",
            "[90.]\n",
            "<NDArray 1 @cpu(0)>\n"
          ],
          "name": "stdout"
        }
      ]
    },
    {
      "metadata": {
        "id": "591UzmwtGZEu",
        "colab_type": "text"
      },
      "cell_type": "markdown",
      "source": [
        "## Problems from Probability\n",
        "\n",
        "Problem 6: In the classic game of Risk, the attacker can roll a maximum of three dice, while the defender can roll a maximum of two dice. Simulate the attacking and defending dice using `sample_multinomial` to try to estimate the odds that an attacker will win against a defender when both are rolling the maximum number of dice."
      ]
    },
    {
      "metadata": {
        "id": "6bPS7PfrGZEx",
        "colab_type": "code",
        "colab": {
          "base_uri": "https://localhost:8080/",
          "height": 68
        },
        "outputId": "989d119f-c17e-48ba-a2d0-e5535c59434e"
      },
      "cell_type": "code",
      "source": [
        "# Problem 6 Work Area\n",
        "dice = nd.ones(6)/6\n",
        "turns = 10000\n",
        "num_dice = 2\n",
        "attacker_wins = 0\n",
        "attacker_wins_one = 0\n",
        "attacker_wins_both = 0\n",
        "for turn in range(turns):\n",
        "    #Only look at the highest two dice of the attacker\n",
        "    attacker = nd.random.multinomial(dice, shape=num_dice + 1).sort()\n",
        "    attacker = attacker[1:]\n",
        "    defender = nd.random.multinomial(dice, shape=num_dice).sort()\n",
        "    if (attacker[1] > defender[1]) or (attacker[0] > defender[0]):\n",
        "        attacker_wins_one +=1\n",
        "    if (attacker[1] > defender[1]) and (attacker[0] > defender[0]):\n",
        "        attacker_wins_both +=1\n",
        "    for die in range(2):\n",
        "        if attacker[die] > defender[die]:\n",
        "            attacker_wins += 1\n",
        "attacker_win_prob = attacker_wins / turns / 2\n",
        "attacker_win_odds = attacker_win_prob/(1-attacker_win_prob)\n",
        "print(\"Odds of win any die:\", attacker_win_odds, \"to 1\")\n",
        "attacker_win_one_prob = attacker_wins_one / turns\n",
        "attacker_win_one_odds = attacker_win_one_prob/(1-attacker_win_one_prob)\n",
        "print(\"Odds attacker wins one die:\", attacker_win_one_odds, \"to 1\")\n",
        "attacker_win_both_prob = attacker_wins_both / turns\n",
        "attacker_win_both_odds = attacker_win_both_prob/(1-attacker_win_both_prob)\n",
        "print(\"Odds attacker wins both die:\", attacker_win_both_odds, \"to 1\")"
      ],
      "execution_count": 15,
      "outputs": [
        {
          "output_type": "stream",
          "text": [
            "Odds of win any die: 1.183406113537118 to 1\n",
            "Odds attacker wins one die: 2.4387895460797804 to 1\n",
            "Odds attacker wins both die: 0.5994881637875881 to 1\n"
          ],
          "name": "stdout"
        }
      ]
    },
    {
      "metadata": {
        "id": "bhEPkChzGZE6",
        "colab_type": "text"
      },
      "cell_type": "markdown",
      "source": [
        "## Problems from Automatic differentiation with ``autograd`` \n",
        "\n",
        "Problem 7: The formula for a parabola is y=ax^2+bx+c. If a=5 and b = 13, what is the slope of y when x=0.  How about when x=7? "
      ]
    },
    {
      "metadata": {
        "id": "0Nk8-XNRGZE-",
        "colab_type": "code",
        "colab": {
          "base_uri": "https://localhost:8080/",
          "height": 68
        },
        "outputId": "c9323f54-22cf-4dc4-ff2c-f3fcb4f833fe"
      },
      "cell_type": "code",
      "source": [
        "# Problem 7 Work Area\n",
        "x = nd.array([0,7])\n",
        "x.attach_grad()\n",
        "\n",
        "a = 5\n",
        "b = 13\n",
        "c = 10\n",
        "\n",
        "with mx.autograd.record():\n",
        "    y = a * x**2 + b*x + c\n",
        "    \n",
        "y.backward()\n",
        "print(x.grad)"
      ],
      "execution_count": 19,
      "outputs": [
        {
          "output_type": "stream",
          "text": [
            "\n",
            "[13. 83.]\n",
            "<NDArray 2 @cpu(0)>\n"
          ],
          "name": "stdout"
        }
      ]
    },
    {
      "metadata": {
        "id": "xVhBI7EqGZFS",
        "colab_type": "text"
      },
      "cell_type": "markdown",
      "source": [
        "Problem 8: Graph the parabola described in Problem 7 and inspect the slope of y when x = 0 and x = 7. Does it match up with your answer from Problem 7?\n"
      ]
    },
    {
      "metadata": {
        "id": "qDVN50bhGZFW",
        "colab_type": "code",
        "colab": {
          "base_uri": "https://localhost:8080/",
          "height": 286
        },
        "outputId": "9d0788b2-9795-48ef-bc82-53adf49b64ee"
      },
      "cell_type": "code",
      "source": [
        "# Problem 8 Work Area\n",
        "\n",
        "%matplotlib inline\n",
        "import numpy as np\n",
        "from matplotlib import pyplot as plt\n",
        "\n",
        "xx = np.arange(0,7,.1)\n",
        "yy = a * xx ** 2 + b * xx + c\n",
        "slope = 2 * a * 7 + b\n",
        "line = slope * xx\n",
        "\n",
        "plt.plot(xx,yy)\n",
        "plt.plot(xx, line)\n"
      ],
      "execution_count": 28,
      "outputs": [
        {
          "output_type": "execute_result",
          "data": {
            "text/plain": [
              "[<matplotlib.lines.Line2D at 0x7f9ea4e97da0>]"
            ]
          },
          "metadata": {
            "tags": []
          },
          "execution_count": 28
        },
        {
          "output_type": "display_data",
          "data": {
            "image/png": "[encoded data removed]",
            "text/plain": [
              "<Figure size 432x288 with 1 Axes>"
            ]
          },
          "metadata": {
            "tags": []
          }
        }
      ]
    },
    {
      "metadata": {
        "id": "rHwEibysGZFd",
        "colab_type": "text"
      },
      "cell_type": "markdown",
      "source": [
        "## Next\n",
        "[Chapter 2: Linear regression from scratch](../chapter02_supervised-learning/linear-regression-scratch.ipynb)"
      ]
    },
    {
      "metadata": {
        "id": "eO95td1ZGZFf",
        "colab_type": "text"
      },
      "cell_type": "markdown",
      "source": [
        "For whinges or inquiries, [open an issue on  GitHub.](https://github.com/zackchase/mxnet-the-straight-dope)"
      ]
    },
    {
      "metadata": {
        "collapsed": true,
        "id": "3tYXUQ4KGZFh",
        "colab_type": "text"
      },
      "cell_type": "markdown",
      "source": [
        "## Solutions to the Problem Set\n",
        "\n",
        "#### Problem 1"
      ]
    },
    {
      "metadata": {
        "id": "Q592U4-_GZFk",
        "colab_type": "code",
        "colab": {},
        "outputId": "2777c18d-5bbd-49ab-a0aa-9df023a48cfe"
      },
      "cell_type": "code",
      "source": [
        "import mxnet as mx\n",
        "mx.random.seed(1)\n",
        "x = mx.nd.empty(shape = (1, 256), ctx = mx.gpu(0)) # not overwriting the memory and setting context to gpu\n",
        "print(mx.nd.argmax(x, axis = 1)) # using argmax function along axis 1"
      ],
      "execution_count": 0,
      "outputs": [
        {
          "output_type": "stream",
          "text": [
            "\n",
            "[0.]\n",
            "<NDArray 1 @gpu(0)>\n"
          ],
          "name": "stdout"
        }
      ]
    },
    {
      "metadata": {
        "id": "NHyA7ksxGZFy",
        "colab_type": "text"
      },
      "cell_type": "markdown",
      "source": [
        "#### Problem 2"
      ]
    },
    {
      "metadata": {
        "id": "VOCpGcAiGZF0",
        "colab_type": "code",
        "colab": {},
        "outputId": "843f8d5e-a0b2-491a-ca8d-46daa3d886e8"
      },
      "cell_type": "code",
      "source": [
        "x = mx.nd.random_uniform(low=0, high=1, shape=(4, 4), ctx = mx.cpu())\n",
        "y = mx.nd.eye(4, 4, ctx = mx.cpu())\n",
        "print(\"x: \", x)\n",
        "print(\"y: \", y)\n",
        "print(\"Product: \", mx.nd.dot(x, y))"
      ],
      "execution_count": 0,
      "outputs": [
        {
          "output_type": "stream",
          "text": [
            "x:  \n",
            "[[0.52383333 0.05501367 0.03996297 0.59453225]\n",
            " [0.18596531 0.6903532  0.7727907  0.98788726]\n",
            " [0.5521489  0.01780298 0.0862769  0.3745286 ]\n",
            " [0.44139475 0.4481566  0.7155492  0.38271946]]\n",
            "<NDArray 4x4 @cpu(0)>\n",
            "y:  \n",
            "[[1. 0. 0. 0.]\n",
            " [0. 1. 0. 0.]\n",
            " [0. 0. 1. 0.]\n",
            " [0. 0. 0. 1.]]\n",
            "<NDArray 4x4 @cpu(0)>\n",
            "Product:  \n",
            "[[0.52383333 0.05501367 0.03996297 0.59453225]\n",
            " [0.18596531 0.6903532  0.7727907  0.98788726]\n",
            " [0.5521489  0.01780298 0.0862769  0.3745286 ]\n",
            " [0.44139475 0.4481566  0.7155492  0.38271946]]\n",
            "<NDArray 4x4 @cpu(0)>\n"
          ],
          "name": "stdout"
        }
      ]
    },
    {
      "metadata": {
        "id": "_-DXRkv-GZF-",
        "colab_type": "text"
      },
      "cell_type": "markdown",
      "source": [
        "#### Problem 3"
      ]
    },
    {
      "metadata": {
        "id": "48VDRw45GZGA",
        "colab_type": "code",
        "colab": {},
        "outputId": "e74cb8cb-a810-49f2-9e83-98850531e74c"
      },
      "cell_type": "code",
      "source": [
        "x = mx.nd.empty(shape = (3, 3, 20), ctx = mx.cpu())\n",
        "x[:,:,0] = mx.nd.ones(shape = (3, 3), ctx = mx.cpu())\n",
        "x[:,:,1] = mx.nd.ones(shape = (3, 3), ctx = mx.cpu())\n",
        "for i in range(2,20):\n",
        "    x[:,:,i] = x[:,:,i-1] + x[:,:,i-2]\n",
        "print(x)"
      ],
      "execution_count": 0,
      "outputs": [
        {
          "output_type": "stream",
          "text": [
            "\n",
            "[[[1.000e+00 1.000e+00 2.000e+00 3.000e+00 5.000e+00 8.000e+00 1.300e+01\n",
            "   2.100e+01 3.400e+01 5.500e+01 8.900e+01 1.440e+02 2.330e+02 3.770e+02\n",
            "   6.100e+02 9.870e+02 1.597e+03 2.584e+03 4.181e+03 6.765e+03]\n",
            "  [1.000e+00 1.000e+00 2.000e+00 3.000e+00 5.000e+00 8.000e+00 1.300e+01\n",
            "   2.100e+01 3.400e+01 5.500e+01 8.900e+01 1.440e+02 2.330e+02 3.770e+02\n",
            "   6.100e+02 9.870e+02 1.597e+03 2.584e+03 4.181e+03 6.765e+03]\n",
            "  [1.000e+00 1.000e+00 2.000e+00 3.000e+00 5.000e+00 8.000e+00 1.300e+01\n",
            "   2.100e+01 3.400e+01 5.500e+01 8.900e+01 1.440e+02 2.330e+02 3.770e+02\n",
            "   6.100e+02 9.870e+02 1.597e+03 2.584e+03 4.181e+03 6.765e+03]]\n",
            "\n",
            " [[1.000e+00 1.000e+00 2.000e+00 3.000e+00 5.000e+00 8.000e+00 1.300e+01\n",
            "   2.100e+01 3.400e+01 5.500e+01 8.900e+01 1.440e+02 2.330e+02 3.770e+02\n",
            "   6.100e+02 9.870e+02 1.597e+03 2.584e+03 4.181e+03 6.765e+03]\n",
            "  [1.000e+00 1.000e+00 2.000e+00 3.000e+00 5.000e+00 8.000e+00 1.300e+01\n",
            "   2.100e+01 3.400e+01 5.500e+01 8.900e+01 1.440e+02 2.330e+02 3.770e+02\n",
            "   6.100e+02 9.870e+02 1.597e+03 2.584e+03 4.181e+03 6.765e+03]\n",
            "  [1.000e+00 1.000e+00 2.000e+00 3.000e+00 5.000e+00 8.000e+00 1.300e+01\n",
            "   2.100e+01 3.400e+01 5.500e+01 8.900e+01 1.440e+02 2.330e+02 3.770e+02\n",
            "   6.100e+02 9.870e+02 1.597e+03 2.584e+03 4.181e+03 6.765e+03]]\n",
            "\n",
            " [[1.000e+00 1.000e+00 2.000e+00 3.000e+00 5.000e+00 8.000e+00 1.300e+01\n",
            "   2.100e+01 3.400e+01 5.500e+01 8.900e+01 1.440e+02 2.330e+02 3.770e+02\n",
            "   6.100e+02 9.870e+02 1.597e+03 2.584e+03 4.181e+03 6.765e+03]\n",
            "  [1.000e+00 1.000e+00 2.000e+00 3.000e+00 5.000e+00 8.000e+00 1.300e+01\n",
            "   2.100e+01 3.400e+01 5.500e+01 8.900e+01 1.440e+02 2.330e+02 3.770e+02\n",
            "   6.100e+02 9.870e+02 1.597e+03 2.584e+03 4.181e+03 6.765e+03]\n",
            "  [1.000e+00 1.000e+00 2.000e+00 3.000e+00 5.000e+00 8.000e+00 1.300e+01\n",
            "   2.100e+01 3.400e+01 5.500e+01 8.900e+01 1.440e+02 2.330e+02 3.770e+02\n",
            "   6.100e+02 9.870e+02 1.597e+03 2.584e+03 4.181e+03 6.765e+03]]]\n",
            "<NDArray 3x3x20 @cpu(0)>\n"
          ],
          "name": "stdout"
        }
      ]
    },
    {
      "metadata": {
        "id": "ensaJQ_tGZGL",
        "colab_type": "text"
      },
      "cell_type": "markdown",
      "source": [
        "#### Problem 4"
      ]
    },
    {
      "metadata": {
        "id": "gWmnNMxqGZGN",
        "colab_type": "code",
        "colab": {},
        "outputId": "4ac9e728-0f3f-458e-acb9-0ada3bd67790"
      },
      "cell_type": "code",
      "source": [
        "print(\"Sum: \", mx.nd.sum(x))\n",
        "print(\"Mean: \", mx.nd.mean(x))"
      ],
      "execution_count": 0,
      "outputs": [
        {
          "output_type": "stream",
          "text": [
            "Sum:  \n",
            "[159390.]\n",
            "<NDArray 1 @cpu(0)>\n",
            "Mean:  \n",
            "[885.5]\n",
            "<NDArray 1 @cpu(0)>\n"
          ],
          "name": "stdout"
        }
      ]
    },
    {
      "metadata": {
        "id": "9ziGxFuFGZGW",
        "colab_type": "text"
      },
      "cell_type": "markdown",
      "source": [
        "#### Problem 5"
      ]
    },
    {
      "metadata": {
        "id": "pH7ZNryjGZGY",
        "colab_type": "code",
        "colab": {},
        "outputId": "0a305deb-e5a6-4569-b021-eea423d44f7b"
      },
      "cell_type": "code",
      "source": [
        "x = mx.nd.array([0,1], ctx = mx.cpu())\n",
        "y = mx.nd.array([1,0], ctx = mx.cpu())\n",
        "print(\"Angle: \", mx.nd.arccos(mx.nd.dot(x, y))) # answer is pi/2, that is 90 degress"
      ],
      "execution_count": 0,
      "outputs": [
        {
          "output_type": "stream",
          "text": [
            "Angle:  \n",
            "[1.5707964]\n",
            "<NDArray 1 @cpu(0)>\n"
          ],
          "name": "stdout"
        }
      ]
    },
    {
      "metadata": {
        "id": "DKGXyvXoGZGs",
        "colab_type": "text"
      },
      "cell_type": "markdown",
      "source": [
        "#### Problem 6"
      ]
    },
    {
      "metadata": {
        "id": "_tJjuAy6GZGw",
        "colab_type": "code",
        "colab": {},
        "outputId": "007f9e75-18d0-4ec2-bb21-5b16ea038cb7"
      },
      "cell_type": "code",
      "source": [
        "# Assuming a fair dice, the probability distribution of the multinomial will be as follows.\n",
        "dice = mx.nd.ones(6) / 6\n",
        "attacker_wins = 0\n",
        "# Simulate for 10000 trials\n",
        "for i in range(10000):\n",
        "    attacker = mx.nd.sum(mx.nd.sample_multinomial(data = dice, shape = 3))\n",
        "    defender = mx.nd.sum(mx.nd.sample_multinomial(data = dice, shape = 2))\n",
        "    if attacker > defender:\n",
        "        attacker_wins += 1\n",
        "print(\"Odds of attacker winning: \", attacker_wins/1000.)"
      ],
      "execution_count": 0,
      "outputs": [
        {
          "output_type": "stream",
          "text": [
            "Odds of attacker winning:  6.938\n"
          ],
          "name": "stdout"
        }
      ]
    },
    {
      "metadata": {
        "id": "1zHUkd3rGZG8",
        "colab_type": "text"
      },
      "cell_type": "markdown",
      "source": [
        "#### Problem 7"
      ]
    },
    {
      "metadata": {
        "id": "EgvM1Y98GZG-",
        "colab_type": "code",
        "colab": {},
        "outputId": "8bf6c3c4-82e0-464e-d746-c943d9998dc9"
      },
      "cell_type": "code",
      "source": [
        "x = mx.nd.array([0, 7], ctx = mx.cpu())\n",
        "x.attach_grad()\n",
        "\n",
        "with mx.autograd.record():\n",
        "    # a = 5, b = 13, c = 10(some random value, since it will disapper once we take the differential)\n",
        "    y = (5 * (x**2)) + (13 * x) + 10\n",
        "\n",
        "y.backward()\n",
        "print(x.grad)"
      ],
      "execution_count": 0,
      "outputs": [
        {
          "output_type": "stream",
          "text": [
            "\n",
            "[13. 83.]\n",
            "<NDArray 2 @cpu(0)>\n"
          ],
          "name": "stdout"
        }
      ]
    },
    {
      "metadata": {
        "id": "nSMRBEpOGZHI",
        "colab_type": "text"
      },
      "cell_type": "markdown",
      "source": [
        "#### Problem 8"
      ]
    },
    {
      "metadata": {
        "id": "NwxbMBpTGZHK",
        "colab_type": "code",
        "colab": {},
        "outputId": "80295fe2-0925-4e14-efa4-cb59ae193f83"
      },
      "cell_type": "code",
      "source": [
        "%matplotlib inline\n",
        "import numpy as np\n",
        "from matplotlib import pyplot as plt\n",
        "\n",
        "x = np.arange(-2.0, 8.0, 0.1)\n",
        "y = (5 * (x**2)) + (13 * x) + 10\n",
        "dy = (10 * x) + 13\n",
        "\n",
        "plt.figure(1)\n",
        "plt.subplot(211)\n",
        "plt.plot(x, y)\n",
        "\n",
        "plt.subplot(212)\n",
        "plt.plot(x, dy, 'r--')\n",
        "plt.show()"
      ],
      "execution_count": 0,
      "outputs": [
        {
          "output_type": "display_data",
          "data": {
            "image/png": "[encoded data removed]",
            "text/plain": [
              "<Figure size 432x288 with 2 Axes>"
            ]
          },
          "metadata": {
            "tags": []
          }
        }
      ]
    }
  ]
}