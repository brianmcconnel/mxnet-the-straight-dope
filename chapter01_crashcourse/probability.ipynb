{
  "nbformat": 4,
  "nbformat_minor": 0,
  "metadata": {
    "colab": {
      "name": "probability.ipynb",
      "version": "0.3.2",
      "provenance": []
    },
    "language_info": {
      "codemirror_mode": {
        "name": "ipython",
        "version": 2
      },
      "file_extension": ".py",
      "mimetype": "text/x-python",
      "name": "python",
      "nbconvert_exporter": "python",
      "pygments_lexer": "ipython2",
      "version": "2.7.13"
    },
    "kernelspec": {
      "display_name": "Python 2",
      "language": "python",
      "name": "python2"
    }
  },
  "cells": [
    {
      "metadata": {
        "id": "uNlv9za98_NN",
        "colab_type": "code",
        "colab": {
          "base_uri": "https://localhost:8080/",
          "height": 595
        },
        "outputId": "bb386085-6f34-437f-82fa-d27a2e34c39e"
      },
      "cell_type": "code",
      "source": [
        "!pip install mxnet-cu100"
      ],
      "execution_count": 1,
      "outputs": [
        {
          "output_type": "stream",
          "text": [
            "Collecting mxnet-cu100\n",
            "\u001b[?25l  Downloading https://files.pythonhosted.org/packages/ae/36/40b6d201b46495513f7a7fa25fe8b7d85b3602a22efba119e8146d5f1601/mxnet_cu100-1.4.0.post0-py2.py3-none-manylinux1_x86_64.whl (487.9MB)\n",
            "\u001b[K    100% |████████████████████████████████| 487.9MB 30kB/s \n",
            "\u001b[?25hCollecting graphviz<0.9.0,>=0.8.1 (from mxnet-cu100)\n",
            "  Downloading https://files.pythonhosted.org/packages/53/39/4ab213673844e0c004bed8a0781a0721a3f6bb23eb8854ee75c236428892/graphviz-0.8.4-py2.py3-none-any.whl\n",
            "Collecting numpy<1.15.0,>=1.8.2 (from mxnet-cu100)\n",
            "\u001b[?25l  Downloading https://files.pythonhosted.org/packages/4e/5b/1077ec0ebfa06f42057e8315bc8e05f5978b6fd0f582879f35f4d62ff124/numpy-1.14.6-cp27-cp27mu-manylinux1_x86_64.whl (13.8MB)\n",
            "\u001b[K    100% |████████████████████████████████| 13.8MB 1.2MB/s \n",
            "\u001b[?25hRequirement already satisfied: requests>=2.20.0 in /usr/local/lib/python2.7/dist-packages (from mxnet-cu100) (2.21.0)\n",
            "Requirement already satisfied: urllib3<1.25,>=1.21.1 in /usr/local/lib/python2.7/dist-packages (from requests>=2.20.0->mxnet-cu100) (1.24.2)\n",
            "Requirement already satisfied: certifi>=2017.4.17 in /usr/local/lib/python2.7/dist-packages (from requests>=2.20.0->mxnet-cu100) (2019.3.9)\n",
            "Requirement already satisfied: chardet<3.1.0,>=3.0.2 in /usr/local/lib/python2.7/dist-packages (from requests>=2.20.0->mxnet-cu100) (3.0.4)\n",
            "Requirement already satisfied: idna<2.9,>=2.5 in /usr/local/lib/python2.7/dist-packages (from requests>=2.20.0->mxnet-cu100) (2.8)\n",
            "\u001b[31mimgaug 0.2.8 has requirement numpy>=1.15.0, but you'll have numpy 1.14.6 which is incompatible.\u001b[0m\n",
            "\u001b[31mfastai 0.7.0 has requirement torch<0.4, but you'll have torch 1.0.1.post2 which is incompatible.\u001b[0m\n",
            "\u001b[31mspacy 2.0.18 has requirement numpy>=1.15.0, but you'll have numpy 1.14.6 which is incompatible.\u001b[0m\n",
            "\u001b[31malbumentations 0.1.12 has requirement imgaug<0.2.7,>=0.2.5, but you'll have imgaug 0.2.8 which is incompatible.\u001b[0m\n",
            "Installing collected packages: graphviz, numpy, mxnet-cu100\n",
            "  Found existing installation: graphviz 0.10.1\n",
            "    Uninstalling graphviz-0.10.1:\n",
            "      Successfully uninstalled graphviz-0.10.1\n",
            "  Found existing installation: numpy 1.16.3\n",
            "    Uninstalling numpy-1.16.3:\n",
            "      Successfully uninstalled numpy-1.16.3\n",
            "Successfully installed graphviz-0.8.4 mxnet-cu100-1.4.0.post0 numpy-1.14.6\n"
          ],
          "name": "stdout"
        },
        {
          "output_type": "display_data",
          "data": {
            "application/vnd.colab-display-data+json": {
              "pip_warning": {
                "packages": [
                  "numpy"
                ]
              }
            }
          },
          "metadata": {
            "tags": []
          }
        }
      ]
    },
    {
      "metadata": {
        "collapsed": true,
        "id": "1ClO3-B182Wl",
        "colab_type": "text"
      },
      "cell_type": "markdown",
      "source": [
        "# Probability and statistics\n",
        "\n",
        "\n",
        "In some form or another, machine learning is all about making predictions. \n",
        "We might want to predict the *probability* of a patient suffering a heart attack in the next year,\n",
        "given their clinical history.\n",
        "In anomaly detection, we might want to assess how *likely* a set of readings from an airplane's jet engine would be,\n",
        "were it operating normally. \n",
        "In reinforcement learning, we want an agent to act intelligently in an environment. \n",
        "This means we need to think about the probability of getting a high reward under each of the available action. \n",
        "And when we build recommender systems we also need to think about probability. \n",
        "For example, if we *hypothetically* worked for a large online bookseller,\n",
        "we might want to estimate the probability that a particular user would buy a particular book, if prompted. \n",
        "For this we need to use the language of probability and statistics. \n",
        "Entire courses, majors, theses, careers, and even departments, are devoted to probability.\n",
        "So our goal here isn't to teach the whole subject. \n",
        "Instead we hope to get you off the ground,\n",
        "to teach you just enough that you know everything necessary to start building your first machine learning models \n",
        "and to have enough of a flavor for the subject that you can begin to explore it on your own if you wish.\n",
        "\n",
        "\n",
        "We've talked a lot about probabilities so far without articulating what precisely they are or giving a concrete example. Let's get more serious by considering the problem of distinguishing cats and dogs based on photographs. This might sound simpler but it's actually a formidable challenge. To start with, the difficulty of the problem may depend on the resolution of the image.\n",
        "\n",
        "| 20px | 40px | 80px | 160px | 320px |\n",
        "|:----:|:----:|:----:|:-----:|:-----:|\n",
        "|![](https://github.com/brianmcconnel/mxnet-the-straight-dope/blob/master/img/whitecat20.jpg?raw=1)|![](https://github.com/brianmcconnel/mxnet-the-straight-dope/blob/master/img/whitecat40.jpg?raw=1)|![](https://github.com/brianmcconnel/mxnet-the-straight-dope/blob/master/img/whitecat80.jpg?raw=1)|![](https://github.com/brianmcconnel/mxnet-the-straight-dope/blob/master/img/whitecat160.jpg?raw=1)|![](https://github.com/brianmcconnel/mxnet-the-straight-dope/blob/master/img/whitecat320.jpg?raw=1)|\n",
        "|![](https://github.com/brianmcconnel/mxnet-the-straight-dope/blob/master/img/whitedog20.jpg?raw=1)|![](https://github.com/brianmcconnel/mxnet-the-straight-dope/blob/master/img/whitedog40.jpg?raw=1)|![](https://github.com/brianmcconnel/mxnet-the-straight-dope/blob/master/img/whitedog80.jpg?raw=1)|![](https://github.com/brianmcconnel/mxnet-the-straight-dope/blob/master/img/whitedog160.jpg?raw=1)|![](https://github.com/brianmcconnel/mxnet-the-straight-dope/blob/master/img/whitedog320.jpg?raw=1)|\n",
        "\n",
        "While it's easy for humans to recognize cats and dogs at 320 pixel resolution, \n",
        "it becomes challenging at 40 pixels \n",
        "and next to impossible at 20 pixels. \n",
        "In other words, our ability to tell cats and dogs apart at a large distance (and thus low resolution) \n",
        "might approach uninformed guessing. \n",
        "Probability gives us a formal way of reasoning about our level of certainty.\n",
        "If we are completely sure that the image depicts a cat, \n",
        "we say that the *probability* that the corresponding label $l$ is $\\mathrm{cat}$, \n",
        "denoted $P(l=\\mathrm{cat})$ equals 1.0.\n",
        "If we had no evidence to suggest that $l =\\mathrm{cat}$ or that $l = \\mathrm{dog}$,\n",
        "then we might say that the two possibilities were equally $likely$\n",
        "expressing this as $P(l=\\mathrm{cat}) = 0.5$.\n",
        "If we were reasonably confident, but not sure that the image depicted a cat,\n",
        "we might assign a probability $.5  < P(l=\\mathrm{cat}) < 1.0$.\n",
        "\n",
        "Now consider a second case:\n",
        "given some weather monitoring data,\n",
        "we want to predict the probability that it will rain in Taipei tomorrow.\n",
        "If it's summertime, the rain might come with probability $.5$\n",
        "In both cases, we have some value of interest.\n",
        "And in both cases we are uncertain about the outcome.\n",
        "But there's a key difference between the two cases. \n",
        "In this first case, the image is in fact either a dog or a cat, \n",
        "we just don't know which. \n",
        "In the second case, the outcome may actually be a random event,\n",
        "if you believe in such things (and most physicists do).\n",
        "So probability is a flexible language for reasoning about our level of certainty,\n",
        "and it can be applied effectively in a broad set of contexts."
      ]
    },
    {
      "metadata": {
        "id": "ZS3sbN5382Wr",
        "colab_type": "text"
      },
      "cell_type": "markdown",
      "source": [
        "## Basic probability theory\n",
        "\n",
        "Say that we cast a die and want to know \n",
        "what the chance is of seeing a $1$ \n",
        "rather than another digit. \n",
        "If the die is fair, all six outcomes $\\mathcal{X} = \\{1, \\ldots, 6\\}$ \n",
        "are equally likely to occur, \n",
        "hence we would see a $1$ in $1$ out of $6$ cases. \n",
        "Formally we state that $1$ occurs with probability $\\frac{1}{6}$. \n",
        "\n",
        "For a real die that we receive from a factory,\n",
        "we might not know those proportions \n",
        "and we would need to check whether it is tainted. \n",
        "The only way to investigate the die is by casting it many times \n",
        "and recording the outcomes. \n",
        "For each cast of the die, \n",
        "we'll observe a value $\\{1, 2, \\ldots, 6\\}$. \n",
        "Given these outcomes, we want to investigate the probability of observing each outcome.\n",
        "\n",
        "One natural approach for each value is to take the individual count for that value\n",
        "and to divide it by the total number of tosses.\n",
        "This gives us an *estimate* of the probability of a given event. \n",
        "The law of large numbers tell us that as the number of tosses grows this estimate will draw closer and closer to the true underlying probability.\n",
        "Before going into the details of what's going here, let's try it out.\n",
        "\n",
        "To start, let's import the necessary packages:"
      ]
    },
    {
      "metadata": {
        "id": "kkW-h7FL82Wt",
        "colab_type": "code",
        "colab": {}
      },
      "cell_type": "code",
      "source": [
        "import mxnet as mx\n",
        "from mxnet import nd"
      ],
      "execution_count": 0,
      "outputs": []
    },
    {
      "metadata": {
        "id": "cCYpY5Ka82W4",
        "colab_type": "text"
      },
      "cell_type": "markdown",
      "source": [
        "Next, we'll want to be able to cast the die.\n",
        "In statistics we call this process of drawing examples from probability distributions *sampling*.\n",
        "The distribution which assigns probabilities to a number of discrete choices is called \n",
        "the *multinomial* distribution. \n",
        "We'll give a more formal definition of *distribution* later,\n",
        "but at a high level, think of it as just an assignment of probabilities to events.\n",
        "In MXNet, we can sample from the multinomial distribution via the aptly named `nd.sample_multinomial` function.\n",
        "The function can be called in many ways, but we'll focus on the simplest.\n",
        "To draw a single sample, we simply give pass in a vector of probabilities."
      ]
    },
    {
      "metadata": {
        "id": "wKpLaXhY82W6",
        "colab_type": "code",
        "colab": {
          "base_uri": "https://localhost:8080/",
          "height": 73
        },
        "outputId": "1dcd81cc-70d8-43f2-cc2d-b1a8c83e9884"
      },
      "cell_type": "code",
      "source": [
        "probabilities = nd.ones(6) / 6\n",
        "nd.sample_multinomial(probabilities)"
      ],
      "execution_count": 3,
      "outputs": [
        {
          "output_type": "execute_result",
          "data": {
            "text/plain": [
              "\n",
              "[3]\n",
              "<NDArray 1 @cpu(0)>"
            ]
          },
          "metadata": {
            "tags": []
          },
          "execution_count": 3
        }
      ]
    },
    {
      "metadata": {
        "id": "8iB_6dX682XL",
        "colab_type": "text"
      },
      "cell_type": "markdown",
      "source": [
        "If you run this line (`nd.sample_multinomial(probabilities)`) a bunch of times, \n",
        "you'll find that you get out random values each time. \n",
        "As with estimating the fairness of a die, \n",
        "we often want to generate many samples from the same distribution.\n",
        "It would be really slow to do this with a Python `for` loop,\n",
        "so `sample_multinomial` supports drawing multiple samples at once,\n",
        "returning an array of independent samples in any shape we might desire."
      ]
    },
    {
      "metadata": {
        "id": "V2D77eU482XN",
        "colab_type": "code",
        "colab": {
          "base_uri": "https://localhost:8080/",
          "height": 204
        },
        "outputId": "4a45cc09-7862-4618-caf7-dc406aad5778"
      },
      "cell_type": "code",
      "source": [
        "print(nd.sample_multinomial(probabilities, shape=(10)))\n",
        "print(nd.sample_multinomial(probabilities, shape=(5,10)))"
      ],
      "execution_count": 4,
      "outputs": [
        {
          "output_type": "stream",
          "text": [
            "\n",
            "[3 4 5 3 5 3 5 2 3 3]\n",
            "<NDArray 10 @cpu(0)>\n",
            "\n",
            "[[2 2 1 5 0 5 1 2 2 4]\n",
            " [4 3 2 3 2 5 5 0 2 0]\n",
            " [3 0 2 4 5 4 0 5 5 5]\n",
            " [2 4 4 2 3 4 4 0 4 3]\n",
            " [3 0 3 5 4 3 0 2 2 1]]\n",
            "<NDArray 5x10 @cpu(0)>\n"
          ],
          "name": "stdout"
        }
      ]
    },
    {
      "metadata": {
        "id": "VDQtBpni82XX",
        "colab_type": "text"
      },
      "cell_type": "markdown",
      "source": [
        "Now that we know how to sample rolls of a die,\n",
        "we can simulate 1000 rolls."
      ]
    },
    {
      "metadata": {
        "id": "8OhNR-Q082XZ",
        "colab_type": "code",
        "colab": {}
      },
      "cell_type": "code",
      "source": [
        "rolls = nd.sample_multinomial(probabilities, shape=(1000))"
      ],
      "execution_count": 0,
      "outputs": []
    },
    {
      "metadata": {
        "id": "0XNeSy9882Xh",
        "colab_type": "text"
      },
      "cell_type": "markdown",
      "source": [
        "We can then go through and count, after each of the 1000 rolls,\n",
        "how many times each number was rolled."
      ]
    },
    {
      "metadata": {
        "id": "0GmU-37h82Xk",
        "colab_type": "code",
        "colab": {}
      },
      "cell_type": "code",
      "source": [
        "counts = nd.zeros((6,1000))\n",
        "totals = nd.zeros(6)\n",
        "for i, roll in enumerate(rolls):\n",
        "    totals[int(roll.asscalar())] += 1\n",
        "    counts[:, i] = totals"
      ],
      "execution_count": 0,
      "outputs": []
    },
    {
      "metadata": {
        "id": "V4Le9zxk82Xr",
        "colab_type": "text"
      },
      "cell_type": "markdown",
      "source": [
        "To start, we can inspect the final tally at the end of $1000$ rolls."
      ]
    },
    {
      "metadata": {
        "id": "AEGh5h5w82Xt",
        "colab_type": "code",
        "colab": {
          "base_uri": "https://localhost:8080/",
          "height": 73
        },
        "outputId": "10cb44f5-9d4b-4cf4-b98f-37a5500b0178"
      },
      "cell_type": "code",
      "source": [
        "totals / 1000"
      ],
      "execution_count": 8,
      "outputs": [
        {
          "output_type": "execute_result",
          "data": {
            "text/plain": [
              "\n",
              "[0.167 0.168 0.175 0.159 0.158 0.173]\n",
              "<NDArray 6 @cpu(0)>"
            ]
          },
          "metadata": {
            "tags": []
          },
          "execution_count": 8
        }
      ]
    },
    {
      "metadata": {
        "id": "PSlqLubi82X2",
        "colab_type": "text"
      },
      "cell_type": "markdown",
      "source": [
        "As you can see, the lowest estimated probability for any of the numbers is about $.15$ \n",
        "and the highest estimated probability is $0.188$. \n",
        "Because we generated the data from a fair die,\n",
        "we know that each number actually has probability of $1/6$, roughly $.167$,\n",
        "so these estimates are pretty good. \n",
        "We can also visualize how these probabilities converge over time\n",
        "towards reasonable estimates.\n",
        "\n",
        "To start let's take a look at the `counts`\n",
        "array which has shape `(6, 1000)`.\n",
        "For each time step (out of 1000),\n",
        "counts, says how many times each of the numbers has shown up.\n",
        "So we can normalize each $j$-th column of the counts vector by the number of tosses\n",
        "to give the `current` estimated probabilities at that time.\n",
        "The counts object looks like this:"
      ]
    },
    {
      "metadata": {
        "id": "DG0Ov-Oj82X4",
        "colab_type": "code",
        "colab": {
          "base_uri": "https://localhost:8080/",
          "height": 167
        },
        "outputId": "8c7df11e-db58-4d7d-9600-71c30b5efdad"
      },
      "cell_type": "code",
      "source": [
        "counts"
      ],
      "execution_count": 9,
      "outputs": [
        {
          "output_type": "execute_result",
          "data": {
            "text/plain": [
              "\n",
              "[[  0.   0.   0. ... 165. 166. 167.]\n",
              " [  1.   1.   1. ... 168. 168. 168.]\n",
              " [  0.   0.   0. ... 175. 175. 175.]\n",
              " [  0.   0.   0. ... 159. 159. 159.]\n",
              " [  0.   1.   2. ... 158. 158. 158.]\n",
              " [  0.   0.   0. ... 173. 173. 173.]]\n",
              "<NDArray 6x1000 @cpu(0)>"
            ]
          },
          "metadata": {
            "tags": []
          },
          "execution_count": 9
        }
      ]
    },
    {
      "metadata": {
        "id": "QRY0eLbH82YH",
        "colab_type": "text"
      },
      "cell_type": "markdown",
      "source": [
        "Normalizing by the number of tosses, we get:"
      ]
    },
    {
      "metadata": {
        "id": "jHhF_YBF82YJ",
        "colab_type": "code",
        "colab": {
          "base_uri": "https://localhost:8080/",
          "height": 185
        },
        "outputId": "ab6fb974-57cd-4e1d-cfeb-8c21e9a717bb"
      },
      "cell_type": "code",
      "source": [
        "x = nd.arange(1000).reshape((1,1000)) + 1\n",
        "estimates = counts / x\n",
        "print(estimates[:,0])\n",
        "print(estimates[:,1])\n",
        "print(estimates[:,100])"
      ],
      "execution_count": 10,
      "outputs": [
        {
          "output_type": "stream",
          "text": [
            "\n",
            "[0. 1. 0. 0. 0. 0.]\n",
            "<NDArray 6 @cpu(0)>\n",
            "\n",
            "[0.  0.5 0.  0.  0.5 0. ]\n",
            "<NDArray 6 @cpu(0)>\n",
            "\n",
            "[0.1980198  0.15841584 0.17821783 0.18811882 0.12871288 0.14851485]\n",
            "<NDArray 6 @cpu(0)>\n"
          ],
          "name": "stdout"
        }
      ]
    },
    {
      "metadata": {
        "id": "AR6K74n482YT",
        "colab_type": "text"
      },
      "cell_type": "markdown",
      "source": [
        "As you can see, after the first toss of the die, we get the extreme estimate that one of the numbers will be rolled with probability $1.0$ and that the others have probability $0$. After $100$ rolls, things already look a bit more reasonable.\n",
        "We can visualize this convergence by using the plotting package `matplotlib`. \n",
        "If you don't have it installed, now would be a good time to [install it](https://matplotlib.org/).\n"
      ]
    },
    {
      "metadata": {
        "id": "eCd7K7t982YW",
        "colab_type": "code",
        "colab": {
          "base_uri": "https://localhost:8080/",
          "height": 269
        },
        "outputId": "461c5bd9-8e8e-4664-fe63-03b809253c37"
      },
      "cell_type": "code",
      "source": [
        "%matplotlib inline\n",
        "\n",
        "from matplotlib import pyplot as plt\n",
        "plt.plot(estimates[0, :].asnumpy(), label=\"Estimated P(die=1)\")\n",
        "plt.plot(estimates[1, :].asnumpy(), label=\"Estimated P(die=2)\")\n",
        "plt.plot(estimates[2, :].asnumpy(), label=\"Estimated P(die=3)\")\n",
        "plt.plot(estimates[3, :].asnumpy(), label=\"Estimated P(die=4)\")\n",
        "plt.plot(estimates[4, :].asnumpy(), label=\"Estimated P(die=5)\")\n",
        "plt.plot(estimates[5, :].asnumpy(), label=\"Estimated P(die=6)\")\n",
        "plt.axhline(y=0.16666, color='black', linestyle='dashed')\n",
        "plt.legend()\n",
        "plt.show()"
      ],
      "execution_count": 11,
      "outputs": [
        {
          "output_type": "display_data",
          "data": {
            "image/png": "[encoded data removed]",
            "text/plain": [
              "<Figure size 432x288 with 1 Axes>"
            ]
          },
          "metadata": {
            "tags": []
          }
        }
      ]
    },
    {
      "metadata": {
        "id": "jzOKnN0782Yh",
        "colab_type": "text"
      },
      "cell_type": "markdown",
      "source": [
        "Each solid curve corresponds to one of the six values of the die\n",
        "and gives our estimated probability that the die turns up that value \n",
        "as assessed after each of the 1000 turns. \n",
        "The dashed black line gives the true underlying probability.\n",
        "As we get more data, the solid curves converge towards the true answer."
      ]
    },
    {
      "metadata": {
        "id": "qIMPPAAH82Yk",
        "colab_type": "text"
      },
      "cell_type": "markdown",
      "source": [
        "<!-- What we can see is that the red curves pretty well capture the behavior of the 10 random traces of averages. This is the case since we are averaging numbers and their aggregate behavior is like that of a number with a lot less uncertainty. Looking at the red curves, they are given by $f(x) = \\pm 1/\\sqrt{x}$. (The reader might cry foul by noting that we just added Gaussian random variables which, quite obviously, lead to yet another Gaussian random variable. That said, the curves for sums of other random variables, such as $\\{0, 1\\}$ valued objects look identical in the limit.) -->\n",
        "\n",
        "\n",
        "In our example of casting a die, we introduced the notion of a **random variable**. \n",
        "A random variable, which we denote here as $X$ can be pretty much any quantity and is not determistic. \n",
        "Random variables could take one value among a set of possibilites. \n",
        "We denote sets with brackets, e.g., $\\{\\mathrm{cat}, \\mathrm{dog}, \\mathrm{rabbit}\\}$.\n",
        "The items contained in the set are called *elements*,\n",
        "and we can say that an element $x$ is *in* the set S, by writing $x \\in S$.\n",
        "The symbol $\\in$ is read as \"in\" and denotes membership. \n",
        "For instance, we could truthfully say $\\mathrm{dog} \\in \\{\\mathrm{cat}, \\mathrm{dog}, \\mathrm{rabbit}\\}$.\n",
        "When dealing with the rolls of die, we are concerned with a variable $X \\in \\{1, 2, 3, 4, 5, 6\\}$. \n",
        "\n",
        "Note that there is a subtle difference between discrete random variables, like the sides of a dice, \n",
        "and continuous ones, like the weight and the height of a person. \n",
        "There's little point in asking whether two people have exactly the same height. \n",
        "If we take precise enough measurements you'll find that no two people on the planet have the exact same height. \n",
        "In fact, if we take a fine enough measurement, \n",
        "you will not have the same height when you wake up and when you go to sleep.\n",
        "So there's no purpose in asking about the probability \n",
        "that some one is $2.00139278291028719210196740527486202$ meters tall. \n",
        "The probability is 0.\n",
        "It makes more sense in this case to ask whether someone's height falls into a given interval, \n",
        "say between 1.99 and 2.01 meters. \n",
        "In these cases we quantify the likelihood that we see a value as a density. \n",
        "The height of exactly 2.0 meters has no probability, but nonzero density. \n",
        "Between any two different heights we have nonzero probability.\n",
        "\n",
        "\n",
        "There are a few important axioms of probability that you'll want to remember:\n",
        "\n",
        "* For any event $z$, the probability is never negative, i.e. $\\Pr(Z=z) \\geq 0$.\n",
        "* For any two events $Z=z$ and $X=x$ the union is no more likely than the sum of the individual events, i.e. $\\Pr(Z=z \\cup X=x) \\leq \\Pr(Z=z) + \\Pr(X=x)$.\n",
        "* For any random variable, the probabilities of all the values it can take must sum to 1 $\\sum_{i=1}^n P(Z=z_i) = 1$.\n",
        "* For any two mutually exclusive events $Z=z$ and $X=x$, the probability that either happens is equal to the sum of their individual probabilities that $\\Pr(Z=z \\cup X=x) = \\Pr(Z=z) + \\Pr(X=z)$."
      ]
    },
    {
      "metadata": {
        "id": "hEobp5YU82Ym",
        "colab_type": "text"
      },
      "cell_type": "markdown",
      "source": [
        "## Dealing with multiple random variables\n",
        "\n",
        "Very often, we'll want consider more than one random variable at a time. \n",
        "For instance, we may want to model the relationship between diseases and symptoms.\n",
        "Given a disease and symptom, say 'flu' and 'cough', \n",
        "either may or may not occur in a patient with some probability.\n",
        "While we hope that the probability of both would be close to zero,\n",
        "we may want to estimate these probabilities and their relationships to each other\n",
        "so that we may apply our inferences to effect better medical care.\n",
        "\n",
        "As a more complicated example, images contain millions of pixels, thus millions of random variables. \n",
        "And in many cases images will come with a label, identifying objects in the image.\n",
        "We can also think of the label as a random variable.\n",
        "We can even get crazy and think of all the metadata as random variables\n",
        "such as location, time, aperture, focal length, ISO, focus distance, camera type, etc.\n",
        "All of these are random variables that occur jointly. \n",
        "When we deal with multiple random variables, \n",
        "there are several quantities of interest.\n",
        "The first is called the joint distribution $\\Pr(A, B)$. \n",
        "Given any elements $a$ and $b$,\n",
        "the joint distribution lets us answer,\n",
        "what is the probability that $A=a$ and $B=b$ simulataneously?\n",
        "It might be clear that for any values $a$ and $b$, $\\Pr(A,B) \\leq \\Pr(A=a)$. \n",
        "\n",
        "This has to be the case, since for $A$ and $B$ to happen, \n",
        "$A$ has to happen *and* $B$ also has to happen (and vice versa). \n",
        "Thus $A,B$ cannot be more likely than $A$ or $B$ individually. \n",
        "This brings us to an interesting ratio: $0 \\leq \\frac{\\Pr(A,B)}{\\Pr(A)} \\leq 1$. \n",
        "We call this a **conditional probability** and denote it by $\\Pr(B|A)$, \n",
        "the probability that $B$ happens, provided that $A$ has happened. \n",
        "\n",
        "Using the definition of conditional probabilities, \n",
        "we can derive one of the most useful and celebrated equations in statistics - Bayes' theorem. \n",
        "It goes as follows: By construction, we have that $\\Pr(A, B) = \\Pr(B|A) \\Pr(A)$. \n",
        "By symmetry, this also holds for $\\Pr(A,B) = \\Pr(A|B) \\Pr(B)$. \n",
        "Solving for one of the conditional variables we get:\n",
        "$$\\Pr(A|B) = \\frac{\\Pr(B|A) \\Pr(A)}{\\Pr(B)}$$\n",
        "\n",
        "This is very useful if we want to infer one thing from another, \n",
        "say cause and effect but we only know the properties in the reverse direction. \n",
        "One important operation that we need to make this work is **marginalization**, i.e., \n",
        "the operation of determining $\\Pr(A)$ and $\\Pr(B)$ from $\\Pr(A,B)$.\n",
        "We can see that the probability of seeing $A$ amounts to accounting \n",
        "for all possible choices of $B$ and aggregating the joint probabilities over all of them, i.e. \n",
        "\n",
        "$$\\Pr(A) = \\sum_{B'} \\Pr(A,B') \\text{ and } \\Pr(B) = \\sum_{A'} \\Pr(A',B)$$\n",
        "\n",
        "A really useful property to check is for **dependence** and **independence**. \n",
        "Independence is when the occurrence of one event does not influence the occurrence of the other.\n",
        "In this case $\\Pr(B|A) = \\Pr(B)$. Statisticians typically use $A \\perp\\!\\!\\!\\perp B$ to express this. \n",
        "From Bayes Theorem it follows immediately that also $\\Pr(A|B) = \\Pr(A)$. \n",
        "In all other cases we call $A$ and $B$ dependent. \n",
        "For instance, two successive rolls of a dice are independent. \n",
        "On the other hand, the position of a light switch and the brightness in the room are not \n",
        "(they are not perfectly deterministic, though, \n",
        "since we could always have a broken lightbulb, power failure, or a broken switch). \n",
        "\n",
        "Let's put our skills to the test. \n",
        "Assume that a doctor administers an AIDS test to a patient. \n",
        "This test is fairly accurate and fails only with 1% probability \n",
        "if the patient is healthy by reporting him as diseased, \n",
        "and that it never fails to detect HIV if the patient actually has it. \n",
        "We use $D$ to indicate the diagnosis and $H$ to denote the HIV status.\n",
        "Written as a table the outcome $\\Pr(D|H)$ looks as follows:\n",
        "\n",
        "|             | Patient is HIV positive | Patient is HIV negative |\n",
        "|:------------|------------------------:|------------------------:|\n",
        "|Test positive| 1 | 0.01 |\n",
        "|Test negative| 0 | 0.99 |\n",
        "\n",
        "Note that the column sums are all one (but the row sums aren't), \n",
        "since the conditional probability needs to sum up to $1$, just like the probability. \n",
        "Let us work out the probability of the patient having AIDS if the test comes back positive. \n",
        "Obviously this is going to depend on how common the disease is, since it affects the number of false alarms.\n",
        "Assume that the population is quite healthy, e.g. $\\Pr(\\text{HIV positive}) = 0.0015$. \n",
        "To apply Bayes Theorem we need to determine \n",
        "\n",
        "$$\\Pr(\\text{Test positive}) = \\Pr(D=1|H=0) \\Pr(H=0) + \\Pr(D=1|H=1) \\Pr(H=1) = 0.01 \\cdot 0.9985 + 1 \\cdot 0.0015 = 0.011485$$\n",
        "\n",
        "Hence we get $\\Pr(H = 1|D = 1) = \\frac{\\Pr(D=1|H=1) \\Pr(H=1)}{\\Pr(D=1)} = \\frac{1 \\cdot 0.0015}{0.011485} = 0.131$, in other words, there's only a 13.1% chance that the patient actually has AIDS, despite using a test that is 99% accurate! As we can see, statistics can be quite counterintuitive. "
      ]
    },
    {
      "metadata": {
        "id": "DVxsjlYQ82Yo",
        "colab_type": "text"
      },
      "cell_type": "markdown",
      "source": [
        "## Conditional independence\n",
        "\n",
        "What should a patient do upon receiving such terrifying news? \n",
        "Likely, he/she would ask the physician to administer another test to get clarity. \n",
        "The second test has different characteristics (it isn't as good as the first one). \n",
        "\n",
        "|             | Patient is HIV positive | Patient is HIV negative |\n",
        "|:------------|------------------------:|------------------------:|\n",
        "|Test positive| 0.98 | 0.03 |\n",
        "|Test negative| 0.02 | 0.97 |\n",
        "\n",
        "Unfortunately, the second test comes back positive, too. \n",
        "Let us work out the requisite probabilities to invoke Bayes' Theorem. \n",
        "\n",
        "* $\\Pr(D_1 = 1 \\text{ and } D_2 = 1|H = 0) = 0.01 \\cdot 0.03 = 0.0003$\n",
        "* $\\Pr(D_1 = 1 \\text{ and } D_2 = 1|H = 1) = 1 \\cdot 0.98 = 0.98$\n",
        "* $\\Pr(D_1 = 1 \\text{ and } D_2 = 1) = 0.0003 \\cdot 0.9985 + 0.98 \\cdot 0.0015 = 0.00176955$\n",
        "* $\\Pr(H = 1|D_1 = 1 \\text{ and } D_2 = 1) = \\frac{0.98 \\cdot 0.0015}{0.00176955} = 0.831$\n",
        "\n",
        "That is, the second test allowed us to gain much higher confidence that not all is well. \n",
        "Despite the second test being considerably less accurate than the first one, \n",
        "it still improved our estimate quite a bit. \n",
        "*Why couldn't we just run the first test a second time?* \n",
        "After all, the first test was more accurate. \n",
        "The reason is that we needed a second test that confirmed *independently* of the first test that things were dire, indeed. In other words, we made the tacit assumption that $\\Pr(D_1, D_2|H) = \\Pr(D_1|H) \\Pr(D_2|H)$. Statisticians call such random variables **conditionally independent**. This is expressed as $D_1 \\perp\\!\\!\\!\\perp D_2 | H$. \n",
        "\n",
        "## Naive Bayes classification\n",
        "\n",
        "Conditional independence is useful when dealing with data, since it simplifies a lot of equations. \n",
        "A popular algorithm is the Naive Bayes Classifier. \n",
        "The key assumption in it is that the attributes are all independent of each other, given the labels. \n",
        "In other words, we have:\n",
        "\n",
        "$$p(x|y) = \\prod_i p(x_i|y)$$\n",
        "\n",
        "Using Bayes Theorem this leads to the classifier $p(y|x) = \\frac{\\prod_i p(x_i|y) p(y)}{p(x)}$. Unfortunately, this is still intractable, since we don't know $p(x)$. Fortunately, we don't need it, since we know that $\\sum_y p(y|x) = 1$, hence we can always recover the normalization from $p(y|x) \\propto \\prod_i p(x_i|y) p(y)$. After all that math, it's time for some code to show how to use a Naive Bayes classifier for distinguishing digits on the MNIST classification dataset. \n",
        "\n",
        "The problem is that we don't actually know $p(y)$ and $p(x_i|y)$. So we need to *estimate* it given some training data first. This is what is called *training* the model. In the case of 10 possible classes we simply compute $n_y$, i.e. the number of occurrences of class $y$ and then divide it by the total number of occurrences. E.g. if we have a total of 60,000 pictures of digits and digit 4 occurs 5800 times, we estimate its probability as $\\frac{5800}{60000}$. Likewise, to get an idea of $p(x_i|y)$ we count how many times pixel $i$ is set for digit $y$ and then divide it by the number of occurrences of digit $y$. This is the probability that that very pixel will be switched on."
      ]
    },
    {
      "metadata": {
        "id": "9rH7EaRq82Yr",
        "colab_type": "code",
        "colab": {
          "base_uri": "https://localhost:8080/",
          "height": 112
        },
        "outputId": "d4a58a64-1c6f-402b-8f75-3a7a124f0d5a"
      },
      "cell_type": "code",
      "source": [
        "import numpy as np\n",
        "\n",
        "# we go over one observation at a time (speed doesn't matter here)\n",
        "def transform(data, label):\n",
        "    return (nd.floor(data/128)).astype(np.float32), label.astype(np.float32)\n",
        "mnist_train = mx.gluon.data.vision.MNIST(train=True, transform=transform)\n",
        "mnist_test = mx.gluon.data.vision.MNIST(train=False, transform=transform)\n",
        "\n",
        "# Initialize the count statistics for p(y) and p(x_i|y)\n",
        "# We initialize all numbers with a count of 1 to ensure that we don't get a\n",
        "# division by zero.  Statisticians call this Laplace smoothing.\n",
        "ycount = nd.ones(shape=(10))\n",
        "xcount = nd.ones(shape=(784, 10))\n",
        "\n",
        "# Aggregate count statistics of how frequently a pixel is on (or off) for\n",
        "# zeros and ones.\n",
        "for data, label in mnist_train:\n",
        "    x = data.reshape((784,))\n",
        "    y = int(label)\n",
        "    ycount[y] += 1\n",
        "    xcount[:, y] += x\n",
        "\n",
        "# normalize the probabilities p(x_i|y) (divide per pixel counts by total\n",
        "# count)\n",
        "for i in range(10):\n",
        "    xcount[:, i] = xcount[:, i]/ycount[i]\n",
        "\n",
        "# likewise, compute the probability p(y)\n",
        "py = ycount / nd.sum(ycount)"
      ],
      "execution_count": 12,
      "outputs": [
        {
          "output_type": "stream",
          "text": [
            "Downloading /root/.mxnet/datasets/mnist/train-images-idx3-ubyte.gz from https://apache-mxnet.s3-accelerate.dualstack.amazonaws.com/gluon/dataset/mnist/train-images-idx3-ubyte.gz...\n",
            "Downloading /root/.mxnet/datasets/mnist/train-labels-idx1-ubyte.gz from https://apache-mxnet.s3-accelerate.dualstack.amazonaws.com/gluon/dataset/mnist/train-labels-idx1-ubyte.gz...\n",
            "Downloading /root/.mxnet/datasets/mnist/t10k-images-idx3-ubyte.gz from https://apache-mxnet.s3-accelerate.dualstack.amazonaws.com/gluon/dataset/mnist/t10k-images-idx3-ubyte.gz...\n",
            "Downloading /root/.mxnet/datasets/mnist/t10k-labels-idx1-ubyte.gz from https://apache-mxnet.s3-accelerate.dualstack.amazonaws.com/gluon/dataset/mnist/t10k-labels-idx1-ubyte.gz...\n"
          ],
          "name": "stdout"
        }
      ]
    },
    {
      "metadata": {
        "id": "KEGabQ4K82Y2",
        "colab_type": "text"
      },
      "cell_type": "markdown",
      "source": [
        "Now that we computed per-pixel counts of occurrence for all pixels, it's time to see how our model behaves. Time to plot it. We show the estimated probabilities of observing a switched-on pixel. These are some mean looking digits."
      ]
    },
    {
      "metadata": {
        "id": "8QBQYnRZ82Y4",
        "colab_type": "code",
        "colab": {
          "base_uri": "https://localhost:8080/",
          "height": 184
        },
        "outputId": "0d774a93-9fcc-4bd3-b0c6-cf5e3c61d510"
      },
      "cell_type": "code",
      "source": [
        "import matplotlib.pyplot as plt\n",
        "fig, figarr = plt.subplots(1, 10, figsize=(15, 15))\n",
        "for i in range(10):\n",
        "    figarr[i].imshow(xcount[:, i].reshape((28, 28)).asnumpy(), cmap='hot')\n",
        "    figarr[i].axes.get_xaxis().set_visible(False)\n",
        "    figarr[i].axes.get_yaxis().set_visible(False)\n",
        "\n",
        "plt.show()\n",
        "print(py)"
      ],
      "execution_count": 13,
      "outputs": [
        {
          "output_type": "display_data",
          "data": {
            "image/png": "[encoded data removed]",
            "text/plain": [
              "<Figure size 1080x1080 with 10 Axes>"
            ]
          },
          "metadata": {
            "tags": []
          }
        },
        {
          "output_type": "stream",
          "text": [
            "\n",
            "[0.09871688 0.11236461 0.09930012 0.10218297 0.09736711 0.09035161\n",
            " 0.09863356 0.10441593 0.09751708 0.09915014]\n",
            "<NDArray 10 @cpu(0)>\n"
          ],
          "name": "stdout"
        }
      ]
    },
    {
      "metadata": {
        "id": "gZe7gDPI82ZG",
        "colab_type": "text"
      },
      "cell_type": "markdown",
      "source": [
        "Now we can compute the likelihoods of an image, given the model. This is statistican speak for $p(x|y)$, i.e. how likely it is to see a particular image under certain conditions (such as the label). Since this is computationally awkward (we might have to multiply many small numbers if many pixels have a small probability of occurring), we are better off computing its logarithm instead. That is, instead of $p(x|y) = \\prod_{i} p(x_i|y)$ we compute $\\log p(x|y) = \\sum_i \\log p(x_i|y)$. \n",
        "\n",
        "$$l_y := \\sum_i \\log p(x_i|y) = \\sum_i x_i \\log p(x_i = 1|y) + (1-x_i) \\log \\left(1-p(x_i=1|y)\\right)$$\n",
        "\n",
        "To avoid recomputing logarithms all the time, we precompute them for all pixels. "
      ]
    },
    {
      "metadata": {
        "id": "wCO9SL-J82ZJ",
        "colab_type": "code",
        "colab": {
          "base_uri": "https://localhost:8080/",
          "height": 213
        },
        "outputId": "604307e4-0762-41b1-b3de-f1498c0549b0"
      },
      "cell_type": "code",
      "source": [
        "logxcount = nd.log(xcount)\n",
        "logxcountneg = nd.log(1-xcount)\n",
        "logpy = nd.log(py)\n",
        "\n",
        "fig, figarr = plt.subplots(2, 10, figsize=(15, 3))\n",
        "\n",
        "# show 10 images\n",
        "ctr = 0\n",
        "for data, label in mnist_test:\n",
        "    x = data.reshape((784,))\n",
        "    y = int(label)\n",
        "    \n",
        "    # we need to incorporate the prior probability p(y) since p(y|x) is\n",
        "    # proportional to p(x|y) p(y)\n",
        "    logpx = logpy.copy()\n",
        "    for i in range(10):\n",
        "        # compute the log probability for a digit\n",
        "        logpx[i] += nd.dot(logxcount[:, i], x) + nd.dot(logxcountneg[:, i], 1-x)\n",
        "    # normalize to prevent overflow or underflow by subtracting the largest\n",
        "    # value\n",
        "    logpx -= nd.max(logpx)\n",
        "    # and compute the softmax using logpx\n",
        "    px = nd.exp(logpx).asnumpy()\n",
        "    px /= np.sum(px)\n",
        "\n",
        "    # bar chart and image of digit\n",
        "    figarr[1, ctr].bar(range(10), px)\n",
        "    figarr[1, ctr].axes.get_yaxis().set_visible(False)\n",
        "    figarr[0, ctr].imshow(x.reshape((28, 28)).asnumpy(), cmap='hot')\n",
        "    figarr[0, ctr].axes.get_xaxis().set_visible(False)\n",
        "    figarr[0, ctr].axes.get_yaxis().set_visible(False)\n",
        "    ctr += 1\n",
        "    if ctr == 10:\n",
        "        break\n",
        "\n",
        "plt.show()"
      ],
      "execution_count": 14,
      "outputs": [
        {
          "output_type": "display_data",
          "data": {
            "image/png": "[encoded data removed]",
            "text/plain": [
              "<Figure size 1080x216 with 20 Axes>"
            ]
          },
          "metadata": {
            "tags": []
          }
        }
      ]
    },
    {
      "metadata": {
        "id": "C1uuX06582Zc",
        "colab_type": "text"
      },
      "cell_type": "markdown",
      "source": [
        "As we can see, this classifier is both incompetent and overly confident of its incorrect estimates. That is, even if it is horribly wrong, it generates probabilities close to 1 or 0. Not a classifier we should use very much nowadays any longer. While Naive Bayes classifiers used to be popular in the 80s and 90s, e.g. for spam filtering, their heydays are over. The poor performance is due to the incorrect statistical assumptions that we made in our model: we assumed that each and every pixel are *independently* generated, depending only on the label. This is clearly not how humans write digits, and this wrong assumption led to the downfall of our overly naive (Bayes) classifier."
      ]
    },
    {
      "metadata": {
        "id": "osXY_zuT82Zh",
        "colab_type": "text"
      },
      "cell_type": "markdown",
      "source": [
        "## Sampling\n",
        "\n",
        "Random numbers are just one form of random variables, and since computers are particularly good with numbers, pretty much everything else in code ultimately gets converted to numbers anyway. One of the basic tools needed to generate random numbers is to sample from a distribution. Let's start with what happens when we use a random number generator. "
      ]
    },
    {
      "metadata": {
        "id": "R7VXu6a-82Zl",
        "colab_type": "code",
        "colab": {
          "base_uri": "https://localhost:8080/",
          "height": 204
        },
        "outputId": "7c22093e-6b9c-4694-ebfd-bda5384b1d6e"
      },
      "cell_type": "code",
      "source": [
        "import random\n",
        "for i in range(10):\n",
        "    print(random.random())"
      ],
      "execution_count": 15,
      "outputs": [
        {
          "output_type": "stream",
          "text": [
            "0.0673056834632\n",
            "0.739193146355\n",
            "0.823611419441\n",
            "0.175798131072\n",
            "0.208739794917\n",
            "0.223622506023\n",
            "0.629802857319\n",
            "0.251845194277\n",
            "0.24187774475\n",
            "0.322499470334\n"
          ],
          "name": "stdout"
        }
      ]
    },
    {
      "metadata": {
        "id": "4QwdN3qA82Z1",
        "colab_type": "text"
      },
      "cell_type": "markdown",
      "source": [
        "### Uniform Distribution\n",
        "\n",
        "These are some pretty random numbers. As we can see, their range is between 0 and 1, and they are evenly distributed. That is, there is (actually, should be, since this is not a *real* random number generator) no interval in which numbers are more likely than in any other. In other words, the chances of any of these numbers to fall into the interval, say $[0.2,0.3)$ are as high as in the interval $[.593264, .693264)$. The way they are generated internally is to produce a random integer first, and then divide it by its maximum range. If we want to have integers directly, try the following instead. It generates random numbers between 0 and 100."
      ]
    },
    {
      "metadata": {
        "id": "stQQob4n82Z3",
        "colab_type": "code",
        "colab": {
          "base_uri": "https://localhost:8080/",
          "height": 204
        },
        "outputId": "4cd21e85-ffe2-4577-8497-5f8910178e39"
      },
      "cell_type": "code",
      "source": [
        "for i in range(10):\n",
        "    print(random.randint(1, 100))"
      ],
      "execution_count": 16,
      "outputs": [
        {
          "output_type": "stream",
          "text": [
            "7\n",
            "86\n",
            "9\n",
            "31\n",
            "13\n",
            "83\n",
            "54\n",
            "2\n",
            "47\n",
            "70\n"
          ],
          "name": "stdout"
        }
      ]
    },
    {
      "metadata": {
        "id": "BmUar4f282aA",
        "colab_type": "text"
      },
      "cell_type": "markdown",
      "source": [
        "What if we wanted to check that ``randint`` is actually really uniform. Intuitively the best strategy would be to run it, say 1 million times, count how many times it generates each one of the values and to ensure that the result is uniform. "
      ]
    },
    {
      "metadata": {
        "id": "jFz28iny82aC",
        "colab_type": "code",
        "colab": {
          "base_uri": "https://localhost:8080/",
          "height": 487
        },
        "outputId": "451bf73d-d543-4f23-f3f8-358d5683fa19"
      },
      "cell_type": "code",
      "source": [
        "import math\n",
        "\n",
        "counts = np.zeros(100)\n",
        "fig, axes = plt.subplots(2, 3, figsize=(15, 8), sharex=True)\n",
        "axes = axes.reshape(6)\n",
        "# mangle subplots such that we can index them in a linear fashion rather than\n",
        "# a 2d grid\n",
        "\n",
        "for i in range(1, 1000001):\n",
        "    counts[random.randint(0, 99)] += 1\n",
        "    if i in [10, 100, 1000, 10000, 100000, 1000000]:\n",
        "        axes[int(math.log10(i))-1].bar(np.arange(1, 101), counts)\n",
        "plt.show()"
      ],
      "execution_count": 17,
      "outputs": [
        {
          "output_type": "display_data",
          "data": {
            "image/png": "[encoded data removed]",
            "text/plain": [
              "<Figure size 1080x576 with 6 Axes>"
            ]
          },
          "metadata": {
            "tags": []
          }
        }
      ]
    },
    {
      "metadata": {
        "collapsed": true,
        "id": "Vx_g4GWS82aL",
        "colab_type": "text"
      },
      "cell_type": "markdown",
      "source": [
        "What we can see from the above figures is that the initial number of counts looks *very* uneven. If we sample fewer than 100 draws from a distribution over 100 outcomes this is pretty much expected. But even for 1000 samples there is a significant variability between the draws. What we are really aiming for is a situation where the probability of drawing a number $x$ is given by $p(x)$. \n",
        "\n",
        "### The categorical distribution\n",
        "\n",
        "Quite obviously, drawing from a uniform distribution over a set of 100 outcomes is quite simple. But what if we have nonuniform probabilities? Let's start with a simple case, a biased coin which comes up heads with probability 0.35 and tails with probability 0.65. A simple way to sample from that is to generate a uniform random variable over $[0,1]$ and if the number is less than $0.35$, we output heads and otherwise we generate tails. Let's try this out."
      ]
    },
    {
      "metadata": {
        "id": "ymnjlRqR82aQ",
        "colab_type": "code",
        "colab": {
          "base_uri": "https://localhost:8080/",
          "height": 491
        },
        "outputId": "5c2f8447-88b0-4c15-bfe3-691f7bcf7e02"
      },
      "cell_type": "code",
      "source": [
        "# number of samples\n",
        "n = 1000000\n",
        "y = np.random.uniform(0, 1, n)\n",
        "x = np.arange(1, n+1)\n",
        "# count number of occurrences and divide by the number of total draws\n",
        "p0 = np.cumsum(y < 0.35) / x\n",
        "p1 = np.cumsum(y >= 0.35) / x\n",
        "\n",
        "plt.figure(figsize=(15, 8))\n",
        "plt.semilogx(x, p0)\n",
        "plt.semilogx(x, p1)\n",
        "plt.show()"
      ],
      "execution_count": 18,
      "outputs": [
        {
          "output_type": "display_data",
          "data": {
            "image/png": "[encoded data removed]",
            "text/plain": [
              "<Figure size 1080x576 with 1 Axes>"
            ]
          },
          "metadata": {
            "tags": []
          }
        }
      ]
    },
    {
      "metadata": {
        "id": "7i_qLmXd82ab",
        "colab_type": "text"
      },
      "cell_type": "markdown",
      "source": [
        "As we can see, on average this sampler will generate 35% zeros and 65% ones. Now what if we have more than two possible outcomes? We can simply generalize this idea as follows. Given any probability distribution, e.g. \n",
        "$p = [0.1, 0.2, 0.05, 0.3, 0.25, 0.1]$ we can compute its cumulative distribution (python's ``cumsum`` will do this for you) $F = [0.1, 0.3, 0.35, 0.65, 0.9, 1]$. Once we have this we draw a random variable $x$ from the uniform distribution $U[0,1]$ and then find the interval where $F[i-1] \\leq x < F[i]$. We then return $i$ as the sample. By construction, the chances of hitting interval $[F[i-1], F[i])$ has probability $p(i)$. \n",
        "\n",
        "Note that there are many more efficient algorithms for sampling than the one above. For instance, binary search over $F$ will run in $O(\\log n)$ time for $n$ random variables. There are even more clever algorithms, such as the [Alias Method](https://en.wikipedia.org/wiki/Alias_method) to sample in constant time, after $O(n)$ preprocessing."
      ]
    },
    {
      "metadata": {
        "id": "J9SRFRwq82ad",
        "colab_type": "text"
      },
      "cell_type": "markdown",
      "source": [
        "### The Normal distribution\n",
        "\n",
        "The Normal distribution (aka the Gaussian distribution) is given by $p(x) = \\frac{1}{\\sqrt{2 \\pi}} \\exp\\left(-\\frac{1}{2} x^2\\right)$. Let's plot it to get a feel for it."
      ]
    },
    {
      "metadata": {
        "id": "ArpHcKxK82af",
        "colab_type": "code",
        "colab": {
          "base_uri": "https://localhost:8080/",
          "height": 323
        },
        "outputId": "35ad4e24-fa47-4341-fa8c-a144eb2541a4"
      },
      "cell_type": "code",
      "source": [
        "x = np.arange(-10, 10, 0.01)\n",
        "p = (1/math.sqrt(2 * math.pi)) * np.exp(-0.5 * x**2)\n",
        "plt.figure(figsize=(10, 5))\n",
        "plt.plot(x, p)\n",
        "plt.show()"
      ],
      "execution_count": 19,
      "outputs": [
        {
          "output_type": "display_data",
          "data": {
            "image/png": "[encoded data removed]",
            "text/plain": [
              "<Figure size 720x360 with 1 Axes>"
            ]
          },
          "metadata": {
            "tags": []
          }
        }
      ]
    },
    {
      "metadata": {
        "id": "RVhIWDuC82an",
        "colab_type": "text"
      },
      "cell_type": "markdown",
      "source": [
        "Sampling from this distribution is a lot less trivial. First off, the support is infinite, that is, for any $x$ the density $p(x)$ is positive. Secondly, the density is nonuniform. There are many tricks for sampling from it - the key idea in all algorithms is to stratify $p(x)$ in such a way as to map it to the uniform distribution $U[0,1]$. One way to do this is with the probability integral transform. \n",
        "\n",
        "Denote by $F(x) = \\int_{-\\infty}^x p(z) dz$ the cumulative distribution function (CDF) of $p$. This is in a way the continuous version of the cumulative sum that we used previously. In the same way we can now define the inverse map $F^{-1}(\\xi)$, where $\\xi$ is drawn uniformly. Unlike previously where we needed to find the correct interval for the vector $F$ (i.e. for the piecewise constant function), we now invert the function $F(x)$. \n",
        "\n",
        "In practice, this is slightly more tricky since inverting the CDF is hard in the case of a Gaussian. It turns out that the *twodimensional* integral is much easier to deal with, thus yielding two normal random variables than one, albeit at the price of two uniformly distributed ones. For now, suffice it to say that there are built-in algorithms to address this. \n",
        "\n",
        "The normal distribution has yet another desirable property. In a way all distributions converge to it, if we only average over a sufficiently large number of draws from any other distribution. To understand this in a bit more detail, we need to introduce three important things: expected values, means and variances. \n",
        "\n",
        "* The expected value $\\mathbb{E}_{x \\sim p(x)}[f(x)]$ of a function $f$ under a distribution $p$ is given by the integral $\\int_x p(x) f(x) dx$. That is, we average over all possible outcomes, as given by $p$. \n",
        "* A particularly important expected value is that for the function $f(x) = x$, i.e. $\\mu := \\mathbb{E}_{x \\sim p(x)}[x]$. It provides us with some idea about the typical values of $x$.\n",
        "* Another important quantity is the variance, i.e. the typical deviation from the mean \n",
        "$\\sigma^2 := \\mathbb{E}_{x \\sim p(x)}[(x-\\mu)^2]$. Simple math shows (check it as an exercise) that\n",
        "$\\sigma^2 = \\mathbb{E}_{x \\sim p(x)}[x^2] - \\mathbb{E}^2_{x \\sim p(x)}[x]$.\n",
        "\n",
        "The above allows us to change both mean and variance of random variables. Quite obviously for some random variable $x$ with mean $\\mu$, the random variable $x + c$ has mean $\\mu + c$. Moreover, $\\gamma x$ has the variance $\\gamma^2 \\sigma^2$. Applying this to the normal distribution we see that one with mean $\\mu$ and variance $\\sigma^2$ has the form $p(x) = \\frac{1}{\\sqrt{2 \\sigma^2 \\pi}} \\exp\\left(-\\frac{1}{2 \\sigma^2} (x-\\mu)^2\\right)$. Note the scaling factor $\\frac{1}{\\sigma}$ - it arises from the fact that if we stretch the distribution by $\\sigma$, we need to lower it by $\\frac{1}{\\sigma}$ to retain the same probability mass (i.e. the weight under the distribution always needs to integrate out to 1). \n",
        "\n",
        "Now we are ready to state one of the most fundamental theorems in statistics, the [Central Limit Theorem](https://en.wikipedia.org/wiki/Central_limit_theorem). It states that for sufficiently well-behaved random variables, in particular random variables with well-defined mean and variance, the sum tends toward a normal distribution. To get some idea, let's repeat the experiment described in the beginning, but now using random variables with integer values of $\\{0, 1, 2\\}$. "
      ]
    },
    {
      "metadata": {
        "id": "FGZEgbGh82aq",
        "colab_type": "code",
        "colab": {
          "base_uri": "https://localhost:8080/",
          "height": 346
        },
        "outputId": "f432d874-fd79-4f4d-cd4d-3cbf25f55cd5"
      },
      "cell_type": "code",
      "source": [
        "# generate 10 random sequences of 10,000 random normal variables N(0,1)\n",
        "tmp = np.random.uniform(size=(10000,10))\n",
        "x = 1.0 * (tmp > 0.3) + 1.0 * (tmp > 0.8)\n",
        "mean = 1 * 0.5 + 2 * 0.2\n",
        "variance = 1 * 0.5 + 4 * 0.2 - mean**2\n",
        "print('mean {}, variance {}'.format(mean, variance))\n",
        "# cumulative sum and normalization\n",
        "y = np.arange(1,10001).reshape(10000,1)\n",
        "z = np.cumsum(x,axis=0) / y\n",
        "\n",
        "plt.figure(figsize=(10,5))\n",
        "for i in range(10):\n",
        "    plt.semilogx(y,z[:,i])\n",
        "\n",
        "plt.semilogx(y,(variance**0.5) * np.power(y,-0.5) + mean,'r')\n",
        "plt.semilogx(y,-(variance**0.5) * np.power(y,-0.5) + mean,'r')\n",
        "plt.show()   "
      ],
      "execution_count": 20,
      "outputs": [
        {
          "output_type": "stream",
          "text": [
            "mean 0.9, variance 0.49\n"
          ],
          "name": "stdout"
        },
        {
          "output_type": "display_data",
          "data": {
            "image/png": "[encoded data removed]",
            "text/plain": [
              "<Figure size 720x360 with 1 Axes>"
            ]
          },
          "metadata": {
            "tags": []
          }
        }
      ]
    },
    {
      "metadata": {
        "id": "nmKwOJQS82a2",
        "colab_type": "text"
      },
      "cell_type": "markdown",
      "source": [
        "This looks very similar to the initial example, at least in the limit of averages of large numbers of variables. This is confirmed by theory. Denote by mean and variance of a random variable the quantities \n",
        "\n",
        "$$\\mu[p] := \\mathbf{E}_{x \\sim p(x)}[x] \\text{ and } \\sigma^2[p] := \\mathbf{E}_{x \\sim p(x)}[(x - \\mu[p])^2]$$\n",
        "\n",
        "Then we have that $\\lim_{n\\to \\infty} \\frac{1}{\\sqrt{n}} \\sum_{i=1}^n \\frac{x_i - \\mu}{\\sigma} \\to \\mathcal{N}(0, 1)$. In other words, regardless of what we started out with, we will always converge to a Gaussian. This is one of the reasons why Gaussians are so popular in statistics.\n",
        "\n",
        "\n",
        "### More distributions\n",
        "\n",
        "Many more useful distributions exist. We recommend consulting a statistics book or looking some of them up on Wikipedia for further detail. \n",
        "\n",
        "* **Binomial Distribution** It is used to describe the distribution over multiple draws from the same distribution, e.g. the number of heads when tossing a biased coin (i.e. a coin with probability $\\pi$ of returning heads) 10 times. The probability is given by $p(x) = {n \\choose x} \\pi^x (1-\\pi)^{n-x}$. \n",
        "* **Multinomial Distribution** Obviously we can have more than two outcomes, e.g. when rolling a dice multiple times. In this case the distribution is given by $p(x) = \\frac{n!}{\\prod_{i=1}^k x_i!} \\prod_{i=1}^k \\pi_i^{x_i}$.\n",
        "* **Poisson Distribution** It is used to model the occurrence of point events that happen with a given rate, e.g. the number of raindrops arriving within a given amount of time in an area (weird fact - the number of Prussian soldiers being killed by horses kicking them followed that distribution). Given a rate $\\lambda$, the number of occurrences is given by $p(x) = \\frac{1}{x!} \\lambda^x e^{-\\lambda}$.\n",
        "* **Beta, Dirichlet, Gamma, and Wishart Distributions** They are what statisticians call *conjugate* to the Binomial, Multinomial, Poisson and Gaussian respectively. Without going into detail, these distributions are often used as priors for coefficients of the latter set of distributions, e.g. a Beta distribution as a prior for modeling the probability for binomial outcomes.  "
      ]
    },
    {
      "metadata": {
        "id": "shULHRs982a5",
        "colab_type": "text"
      },
      "cell_type": "markdown",
      "source": [
        "## Next\n",
        "[Autograd](../chapter01_crashcourse/autograd.ipynb)"
      ]
    },
    {
      "metadata": {
        "id": "I6AzXu1582a8",
        "colab_type": "text"
      },
      "cell_type": "markdown",
      "source": [
        "For whinges or inquiries, [open an issue on  GitHub.](https://github.com/zackchase/mxnet-the-straight-dope)"
      ]
    }
  ]
}