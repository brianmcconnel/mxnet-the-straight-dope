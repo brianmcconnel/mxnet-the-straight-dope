{
  "nbformat": 4,
  "nbformat_minor": 0,
  "metadata": {
    "colab": {
      "name": "ndarray.ipynb",
      "version": "0.3.2",
      "provenance": []
    },
    "language_info": {
      "codemirror_mode": {
        "name": "ipython",
        "version": 3
      },
      "file_extension": ".py",
      "mimetype": "text/x-python",
      "name": "python",
      "nbconvert_exporter": "python",
      "pygments_lexer": "ipython3",
      "version": "3.4.3"
    },
    "kernelspec": {
      "display_name": "Python 2",
      "language": "python",
      "name": "python2"
    }
  },
  "cells": [
    {
      "metadata": {
        "id": "cSb7LIyw7h4b",
        "colab_type": "code",
        "colab": {
          "base_uri": "https://localhost:8080/",
          "height": 551
        },
        "outputId": "e4d29298-ac6d-48e5-d359-8e85f974a962"
      },
      "cell_type": "code",
      "source": [
        "!pip install mxnet-cu100"
      ],
      "execution_count": 1,
      "outputs": [
        {
          "output_type": "stream",
          "text": [
            "Collecting mxnet-cu100\n",
            "\u001b[?25l  Downloading https://files.pythonhosted.org/packages/ae/36/40b6d201b46495513f7a7fa25fe8b7d85b3602a22efba119e8146d5f1601/mxnet_cu100-1.4.0.post0-py2.py3-none-manylinux1_x86_64.whl (487.9MB)\n",
            "\u001b[K    100% |████████████████████████████████| 487.9MB 26kB/s \n",
            "\u001b[?25hCollecting graphviz<0.9.0,>=0.8.1 (from mxnet-cu100)\n",
            "  Downloading https://files.pythonhosted.org/packages/53/39/4ab213673844e0c004bed8a0781a0721a3f6bb23eb8854ee75c236428892/graphviz-0.8.4-py2.py3-none-any.whl\n",
            "Collecting numpy<1.15.0,>=1.8.2 (from mxnet-cu100)\n",
            "\u001b[?25l  Downloading https://files.pythonhosted.org/packages/4e/5b/1077ec0ebfa06f42057e8315bc8e05f5978b6fd0f582879f35f4d62ff124/numpy-1.14.6-cp27-cp27mu-manylinux1_x86_64.whl (13.8MB)\n",
            "\u001b[K    100% |████████████████████████████████| 13.8MB 1.3MB/s \n",
            "\u001b[?25hRequirement already satisfied: requests>=2.20.0 in /usr/local/lib/python2.7/dist-packages (from mxnet-cu100) (2.21.0)\n",
            "Requirement already satisfied: urllib3<1.25,>=1.21.1 in /usr/local/lib/python2.7/dist-packages (from requests>=2.20.0->mxnet-cu100) (1.24.2)\n",
            "Requirement already satisfied: certifi>=2017.4.17 in /usr/local/lib/python2.7/dist-packages (from requests>=2.20.0->mxnet-cu100) (2019.3.9)\n",
            "Requirement already satisfied: chardet<3.1.0,>=3.0.2 in /usr/local/lib/python2.7/dist-packages (from requests>=2.20.0->mxnet-cu100) (3.0.4)\n",
            "Requirement already satisfied: idna<2.9,>=2.5 in /usr/local/lib/python2.7/dist-packages (from requests>=2.20.0->mxnet-cu100) (2.8)\n",
            "\u001b[31mimgaug 0.2.8 has requirement numpy>=1.15.0, but you'll have numpy 1.14.6 which is incompatible.\u001b[0m\n",
            "\u001b[31mfastai 0.7.0 has requirement torch<0.4, but you'll have torch 1.0.1.post2 which is incompatible.\u001b[0m\n",
            "\u001b[31mspacy 2.0.18 has requirement numpy>=1.15.0, but you'll have numpy 1.14.6 which is incompatible.\u001b[0m\n",
            "\u001b[31malbumentations 0.1.12 has requirement imgaug<0.2.7,>=0.2.5, but you'll have imgaug 0.2.8 which is incompatible.\u001b[0m\n",
            "Installing collected packages: graphviz, numpy, mxnet-cu100\n",
            "  Found existing installation: graphviz 0.10.1\n",
            "    Uninstalling graphviz-0.10.1:\n",
            "      Successfully uninstalled graphviz-0.10.1\n",
            "  Found existing installation: numpy 1.16.3\n",
            "    Uninstalling numpy-1.16.3:\n",
            "      Successfully uninstalled numpy-1.16.3\n",
            "Successfully installed graphviz-0.8.4 mxnet-cu100-1.4.0.post0 numpy-1.14.6\n"
          ],
          "name": "stdout"
        },
        {
          "output_type": "display_data",
          "data": {
            "application/vnd.colab-display-data+json": {
              "pip_warning": {
                "packages": [
                  "numpy"
                ]
              }
            }
          },
          "metadata": {
            "tags": []
          }
        }
      ]
    },
    {
      "metadata": {
        "collapsed": true,
        "id": "o3uRZ0cu7Bsv",
        "colab_type": "text"
      },
      "cell_type": "markdown",
      "source": [
        "# Manipulate data the MXNet way with `ndarray`\n",
        "\n",
        "It's impossible to get anything done if we can't manipulate data. \n",
        "Generally, there are two important things we need to do with: \n",
        "(i) acquire it! and (ii) process it once it's inside the computer.\n",
        "There's no point in trying to acquire data if we don't even know how to store it,\n",
        "so let's get our hands dirty first by playing with synthetic data.\n",
        "\n",
        "We'll start by introducing NDArrays, MXNet's primary tool for storing and transforming data. If you've worked with NumPy before, you'll notice that NDArrays are, by design, similar to NumPy's multi-dimensional array. However, they confer a few key advantages. First, NDArrays support asynchronous computation on CPU, GPU, and distributed cloud architectures. Second, they provide support for automatic differentiation. These properties make NDArray an ideal library for machine learning, both for researchers and engineers launching production systems.\n",
        "\n",
        "\n",
        "## Getting started\n",
        "\n",
        "In this chapter, we'll get you going with the basic functionality. Don't worry if you don't understand any of the basic math, like element-wise operations or normal distributions. In the next two chapters we'll take another pass at NDArray, teaching you both the math you'll need and how to realize it in code.\n",
        "\n",
        "To get started, let's import `mxnet`. We'll also import `ndarray` from `mxnet` for convenience. We’ll make a habit of setting a random seed so that you always get the same results that we do."
      ]
    },
    {
      "metadata": {
        "id": "XXNhAf7Z7Bs2",
        "colab_type": "code",
        "colab": {}
      },
      "cell_type": "code",
      "source": [
        "import mxnet as mx\n",
        "from mxnet import nd\n",
        "mx.random.seed(1)"
      ],
      "execution_count": 0,
      "outputs": []
    },
    {
      "metadata": {
        "id": "u0Ne6AEa7BtF",
        "colab_type": "text"
      },
      "cell_type": "markdown",
      "source": [
        "Next, let's see how to create an NDArray, without any values initialized. Specifically, we'll create a 2D array (also called a *matrix*) with 3 rows and 4 columns."
      ]
    },
    {
      "metadata": {
        "id": "tsLzwgwD7BtI",
        "colab_type": "code",
        "colab": {
          "base_uri": "https://localhost:8080/",
          "height": 102
        },
        "outputId": "e658e04d-d4fc-4775-8674-1a4de56788db"
      },
      "cell_type": "code",
      "source": [
        "x = nd.empty((3, 4))\n",
        "print(x)"
      ],
      "execution_count": 2,
      "outputs": [
        {
          "output_type": "stream",
          "text": [
            "\n",
            "[[-8.2563750e+03  3.0850987e-41  3.9527786e-29  4.5906538e-41]\n",
            " [ 3.9532794e-29  4.5906538e-41 -4.7628784e+00  3.0850987e-41]\n",
            " [ 0.0000000e+00  0.0000000e+00  0.0000000e+00  0.0000000e+00]]\n",
            "<NDArray 3x4 @cpu(0)>\n"
          ],
          "name": "stdout"
        }
      ]
    },
    {
      "metadata": {
        "id": "wGwKAp7q7BtX",
        "colab_type": "text"
      },
      "cell_type": "markdown",
      "source": [
        "The `empty` method just grabs some memory and hands us back a matrix without setting the values of any of its entries. This means that the entries can have any form of values, including very big ones! But typically, we'll want our matrices initialized. Commonly, we want a matrix of all zeros. "
      ]
    },
    {
      "metadata": {
        "id": "Byocln9s7Btb",
        "colab_type": "code",
        "colab": {
          "base_uri": "https://localhost:8080/",
          "height": 102
        },
        "outputId": "2911c967-32ac-4ebf-a649-19f5d060b399"
      },
      "cell_type": "code",
      "source": [
        "x = nd.zeros((3, 5))\n",
        "x"
      ],
      "execution_count": 3,
      "outputs": [
        {
          "output_type": "execute_result",
          "data": {
            "text/plain": [
              "\n",
              "[[0. 0. 0. 0. 0.]\n",
              " [0. 0. 0. 0. 0.]\n",
              " [0. 0. 0. 0. 0.]]\n",
              "<NDArray 3x5 @cpu(0)>"
            ]
          },
          "metadata": {
            "tags": []
          },
          "execution_count": 3
        }
      ]
    },
    {
      "metadata": {
        "id": "-cEJH1Wo7Btn",
        "colab_type": "text"
      },
      "cell_type": "markdown",
      "source": [
        "Similarly, `ndarray` has a function to create a matrix of all ones. "
      ]
    },
    {
      "metadata": {
        "id": "qSbd1a1t7Btp",
        "colab_type": "code",
        "colab": {
          "base_uri": "https://localhost:8080/",
          "height": 102
        },
        "outputId": "b9c1ea7a-7b8b-4f9e-89e4-ed14b0790c95"
      },
      "cell_type": "code",
      "source": [
        "x = nd.ones((3, 4))\n",
        "x"
      ],
      "execution_count": 4,
      "outputs": [
        {
          "output_type": "execute_result",
          "data": {
            "text/plain": [
              "\n",
              "[[1. 1. 1. 1.]\n",
              " [1. 1. 1. 1.]\n",
              " [1. 1. 1. 1.]]\n",
              "<NDArray 3x4 @cpu(0)>"
            ]
          },
          "metadata": {
            "tags": []
          },
          "execution_count": 4
        }
      ]
    },
    {
      "metadata": {
        "id": "Ju7Lq4YM7Bt0",
        "colab_type": "text"
      },
      "cell_type": "markdown",
      "source": [
        "Often, we'll want to create arrays whose values are sampled randomly. This is especially common when we intend to use the array as a parameter in a neural network. In this snippet, we initialize with values drawn from a standard normal distribution with zero mean and unit variance."
      ]
    },
    {
      "metadata": {
        "id": "k8xZ3fR57Bt2",
        "colab_type": "code",
        "colab": {
          "base_uri": "https://localhost:8080/",
          "height": 102
        },
        "outputId": "f746a5f3-bdb6-449f-fd75-b0f662675c60"
      },
      "cell_type": "code",
      "source": [
        "y = nd.random_normal(0, 1, shape=(3, 4))\n",
        "y"
      ],
      "execution_count": 6,
      "outputs": [
        {
          "output_type": "execute_result",
          "data": {
            "text/plain": [
              "\n",
              "[[-0.38577855  1.37109    -0.23789984  0.14867957]\n",
              " [-0.49851316 -0.84815776  0.07811152 -0.38241303]\n",
              " [-0.05334064 -0.31002352 -1.7337203  -1.0618485 ]]\n",
              "<NDArray 3x4 @cpu(0)>"
            ]
          },
          "metadata": {
            "tags": []
          },
          "execution_count": 6
        }
      ]
    },
    {
      "metadata": {
        "id": "WN5-AHgz7BuC",
        "colab_type": "text"
      },
      "cell_type": "markdown",
      "source": [
        "As in NumPy, the dimensions of each NDArray are accessible via the `.shape` attribute."
      ]
    },
    {
      "metadata": {
        "id": "cfr1M-5W7BuE",
        "colab_type": "code",
        "colab": {
          "base_uri": "https://localhost:8080/",
          "height": 34
        },
        "outputId": "b3f75113-3522-4721-bfab-e8091313a85c"
      },
      "cell_type": "code",
      "source": [
        "y.shape"
      ],
      "execution_count": 7,
      "outputs": [
        {
          "output_type": "execute_result",
          "data": {
            "text/plain": [
              "(3L, 4L)"
            ]
          },
          "metadata": {
            "tags": []
          },
          "execution_count": 7
        }
      ]
    },
    {
      "metadata": {
        "id": "Xn9xI2lH7BuP",
        "colab_type": "text"
      },
      "cell_type": "markdown",
      "source": [
        "We can also query its size, which is equal to the product of the components of the shape. Together with the precision of the stored values, this tells us how much memory the array occupies."
      ]
    },
    {
      "metadata": {
        "id": "BEMUL8_87BuU",
        "colab_type": "code",
        "colab": {
          "base_uri": "https://localhost:8080/",
          "height": 34
        },
        "outputId": "d187e5d9-e216-4889-9dd6-d2ee85cf6470"
      },
      "cell_type": "code",
      "source": [
        "y.size"
      ],
      "execution_count": 9,
      "outputs": [
        {
          "output_type": "execute_result",
          "data": {
            "text/plain": [
              "12L"
            ]
          },
          "metadata": {
            "tags": []
          },
          "execution_count": 9
        }
      ]
    },
    {
      "metadata": {
        "id": "GQkTOUqy7Buh",
        "colab_type": "text"
      },
      "cell_type": "markdown",
      "source": [
        "## Operations\n",
        "\n",
        "NDArray supports a large number of standard mathematical operations. Such as element-wise addition:"
      ]
    },
    {
      "metadata": {
        "id": "mVe-tvvd7Buk",
        "colab_type": "code",
        "colab": {
          "base_uri": "https://localhost:8080/",
          "height": 102
        },
        "outputId": "18f73a34-2481-448b-a581-9e51428d3ce4"
      },
      "cell_type": "code",
      "source": [
        "x + y"
      ],
      "execution_count": 10,
      "outputs": [
        {
          "output_type": "execute_result",
          "data": {
            "text/plain": [
              "\n",
              "[[ 0.61422145  2.37109     0.76210016  1.1486796 ]\n",
              " [ 0.50148684  0.15184224  1.0781115   0.617587  ]\n",
              " [ 0.9466594   0.68997645 -0.7337203  -0.06184852]]\n",
              "<NDArray 3x4 @cpu(0)>"
            ]
          },
          "metadata": {
            "tags": []
          },
          "execution_count": 10
        }
      ]
    },
    {
      "metadata": {
        "id": "xD0gztsi7Bu0",
        "colab_type": "text"
      },
      "cell_type": "markdown",
      "source": [
        "Multiplication:"
      ]
    },
    {
      "metadata": {
        "id": "QxFbUFIt7Bu3",
        "colab_type": "code",
        "colab": {
          "base_uri": "https://localhost:8080/",
          "height": 102
        },
        "outputId": "37fbf842-a956-4a63-a763-072da1422c41"
      },
      "cell_type": "code",
      "source": [
        "x * y"
      ],
      "execution_count": 11,
      "outputs": [
        {
          "output_type": "execute_result",
          "data": {
            "text/plain": [
              "\n",
              "[[-0.38577855  1.37109    -0.23789984  0.14867957]\n",
              " [-0.49851316 -0.84815776  0.07811152 -0.38241303]\n",
              " [-0.05334064 -0.31002352 -1.7337203  -1.0618485 ]]\n",
              "<NDArray 3x4 @cpu(0)>"
            ]
          },
          "metadata": {
            "tags": []
          },
          "execution_count": 11
        }
      ]
    },
    {
      "metadata": {
        "id": "oYGfAXPT7BvB",
        "colab_type": "text"
      },
      "cell_type": "markdown",
      "source": [
        "And exponentiation:"
      ]
    },
    {
      "metadata": {
        "scrolled": false,
        "id": "b7JMKtAA7BvF",
        "colab_type": "code",
        "colab": {
          "base_uri": "https://localhost:8080/",
          "height": 102
        },
        "outputId": "0b33b64d-5715-41d5-b064-caf4d825a497"
      },
      "cell_type": "code",
      "source": [
        "nd.exp(y)"
      ],
      "execution_count": 12,
      "outputs": [
        {
          "output_type": "execute_result",
          "data": {
            "text/plain": [
              "\n",
              "[[0.6799211  3.9396427  0.7882816  1.1603011 ]\n",
              " [0.60743314 0.42820305 1.0812433  0.68221325]\n",
              " [0.948057   0.73342973 0.17662609 0.34581596]]\n",
              "<NDArray 3x4 @cpu(0)>"
            ]
          },
          "metadata": {
            "tags": []
          },
          "execution_count": 12
        }
      ]
    },
    {
      "metadata": {
        "id": "fqcTRTqf7BvP",
        "colab_type": "text"
      },
      "cell_type": "markdown",
      "source": [
        "We can also grab a matrix's transpose to compute a proper matrix-matrix product."
      ]
    },
    {
      "metadata": {
        "id": "41hkd0RM7BvT",
        "colab_type": "code",
        "colab": {
          "base_uri": "https://localhost:8080/",
          "height": 102
        },
        "outputId": "e9376827-66af-4993-e292-b300819f2d82"
      },
      "cell_type": "code",
      "source": [
        "nd.dot(x, y.T)"
      ],
      "execution_count": 13,
      "outputs": [
        {
          "output_type": "execute_result",
          "data": {
            "text/plain": [
              "\n",
              "[[ 0.8960912 -1.6509724 -3.1589332]\n",
              " [ 0.8960912 -1.6509724 -3.1589332]\n",
              " [ 0.8960912 -1.6509724 -3.1589332]]\n",
              "<NDArray 3x3 @cpu(0)>"
            ]
          },
          "metadata": {
            "tags": []
          },
          "execution_count": 13
        }
      ]
    },
    {
      "metadata": {
        "id": "K1_rkVeT7Bvj",
        "colab_type": "text"
      },
      "cell_type": "markdown",
      "source": [
        "We'll explain these operations and present even more operators in the [linear algebra](P01-C03-linear-algebra.ipynb) chapter. But for now, we'll stick with the mechanics of working with NDArrays."
      ]
    },
    {
      "metadata": {
        "id": "idy6vckg7Bvp",
        "colab_type": "text"
      },
      "cell_type": "markdown",
      "source": [
        "## In-place operations\n",
        "\n",
        "In the previous example, every time we ran an operation, we allocated new memory to host its results. For example, if we write `y = x + y`, we will dereference the matrix that `y` used to point to and instead point it at the newly allocated memory. In the following example we demonstrate this with Python's `id()` function, which gives us the exact address of the referenced object in memory. After running `y = y + x`, we'll find that `id(y)` points to a different location. That's because Python first evaluates `y + x`, allocating new memory for the result and then subsequently redirects `y` to point at this new location in memory."
      ]
    },
    {
      "metadata": {
        "id": "Ny5xNYqZ7Bvs",
        "colab_type": "code",
        "colab": {
          "base_uri": "https://localhost:8080/",
          "height": 51
        },
        "outputId": "070be997-9343-412c-a0b7-d17395435035"
      },
      "cell_type": "code",
      "source": [
        "print('id(y):', id(y))\n",
        "y = y + x\n",
        "print('id(y):', id(y))"
      ],
      "execution_count": 16,
      "outputs": [
        {
          "output_type": "stream",
          "text": [
            "('id(y):', 140701311396496)\n",
            "('id(y):', 140701311396624)\n"
          ],
          "name": "stdout"
        }
      ]
    },
    {
      "metadata": {
        "id": "xLkWulee7Bv3",
        "colab_type": "text"
      },
      "cell_type": "markdown",
      "source": [
        "This might be undesirable for two reasons. First, we don't want to run around allocating memory unnecessarily all the time. In machine learning, we might have hundreds of megabytes of paramaters and update all of them multiple times per second. Typically, we'll want to perform these updates in place. Second, we might point at the same parameters from multiple variables. If we don't update in place, this could cause a memory leak, and could cause us to inadvertently reference stale parameters. \n",
        "\n",
        "Fortunately, performing in-place operations in MXNet is easy. We can assign the result of an operation to a previously allocated array with slice notation, e.g., `y[:] = <expression>`."
      ]
    },
    {
      "metadata": {
        "id": "AOb9WcGU7Bv5",
        "colab_type": "code",
        "colab": {
          "base_uri": "https://localhost:8080/",
          "height": 51
        },
        "outputId": "6a167630-d49b-44f4-80e3-b88e5ec2066c"
      },
      "cell_type": "code",
      "source": [
        "print('id(y):', id(y))\n",
        "y[:] = x + y\n",
        "print('id(y):', id(y))"
      ],
      "execution_count": 15,
      "outputs": [
        {
          "output_type": "stream",
          "text": [
            "('id(y):', 140701311396496)\n",
            "('id(y):', 140701311396496)\n"
          ],
          "name": "stdout"
        }
      ]
    },
    {
      "metadata": {
        "id": "iBLrywcb7BwC",
        "colab_type": "text"
      },
      "cell_type": "markdown",
      "source": [
        "While this syntacically nice, `x+y` here will still allocate a temporary buffer to store the result before copying it to `y[:]`. To make even better use of memory, we can directly invoke the underlying `ndarray` operation, in this case `elemwise_add`, avoiding temporary buffers. We do this by specifying the `out` keyword argument, which every `ndarray` operator supports:"
      ]
    },
    {
      "metadata": {
        "id": "HzzrG9Bk7BwE",
        "colab_type": "code",
        "colab": {},
        "outputId": "86c853a9-50d9-45b7-8577-12a880f72e62"
      },
      "cell_type": "code",
      "source": [
        "nd.elemwise_add(x, y, out=y)"
      ],
      "execution_count": 0,
      "outputs": [
        {
          "output_type": "execute_result",
          "data": {
            "text/plain": [
              "\n",
              "[[ 3.11287737  1.69355583  2.89286423  0.36900735]\n",
              " [ 2.9426415   3.31348419  2.42348909  1.88940048]\n",
              " [ 3.57960725  2.77100396  4.04484272  3.81243682]]\n",
              "<NDArray 3x4 @cpu(0)>"
            ]
          },
          "metadata": {
            "tags": []
          },
          "execution_count": 15
        }
      ]
    },
    {
      "metadata": {
        "id": "LcAHQL2P7BwM",
        "colab_type": "text"
      },
      "cell_type": "markdown",
      "source": [
        "If we're not planning to re-use ``x``, then we can assign the result to ``x`` itself. There are two ways to do this in MXNet. \n",
        "1. By using slice notation x[:] = x op y\n",
        "2. By using the op-equals operators like `+=`"
      ]
    },
    {
      "metadata": {
        "id": "njJpSbfV7BwO",
        "colab_type": "code",
        "colab": {},
        "outputId": "0f1dfc75-ec71-40b7-af7a-26316c2df7cf"
      },
      "cell_type": "code",
      "source": [
        "print('id(x):', id(x))\n",
        "x += y\n",
        "x\n",
        "print('id(x):', id(x))"
      ],
      "execution_count": 0,
      "outputs": [
        {
          "output_type": "stream",
          "text": [
            "id(x): 140291459564992\n",
            "id(x): 140291459564992\n"
          ],
          "name": "stdout"
        }
      ]
    },
    {
      "metadata": {
        "id": "CLyQsfaQ7BwZ",
        "colab_type": "text"
      },
      "cell_type": "markdown",
      "source": [
        "## Slicing\n",
        "MXNet NDArrays support slicing in all the ridiculous ways you might imagine accessing your data. Here's an example of reading the second and third rows from `x`."
      ]
    },
    {
      "metadata": {
        "id": "d1jZyrbJ7Bwb",
        "colab_type": "code",
        "colab": {},
        "outputId": "c8f1497c-3ff8-44f4-f0c4-09f0ce3322e9"
      },
      "cell_type": "code",
      "source": [
        "x[1:3]"
      ],
      "execution_count": 0,
      "outputs": [
        {
          "output_type": "execute_result",
          "data": {
            "text/plain": [
              "\n",
              "[[ 3.9426415   4.31348419  3.42348909  2.88940048]\n",
              " [ 4.57960701  3.77100396  5.04484272  4.81243706]]\n",
              "<NDArray 2x4 @cpu(0)>"
            ]
          },
          "metadata": {
            "tags": []
          },
          "execution_count": 17
        }
      ]
    },
    {
      "metadata": {
        "id": "66XOx2y97Bwj",
        "colab_type": "text"
      },
      "cell_type": "markdown",
      "source": [
        "Now let's try writing to a specific element."
      ]
    },
    {
      "metadata": {
        "id": "_y_xULP57Bwl",
        "colab_type": "code",
        "colab": {},
        "outputId": "3784ab88-f8db-4227-de75-f8032dc5331f"
      },
      "cell_type": "code",
      "source": [
        "x[1,2] = 9.0\n",
        "x"
      ],
      "execution_count": 0,
      "outputs": [
        {
          "output_type": "execute_result",
          "data": {
            "text/plain": [
              "\n",
              "[[ 4.11287737  2.69355583  3.89286423  1.36900735]\n",
              " [ 3.9426415   4.31348419  9.          2.88940048]\n",
              " [ 4.57960701  3.77100396  5.04484272  4.81243706]]\n",
              "<NDArray 3x4 @cpu(0)>"
            ]
          },
          "metadata": {
            "tags": []
          },
          "execution_count": 18
        }
      ]
    },
    {
      "metadata": {
        "id": "jSuj1A7r7Bwx",
        "colab_type": "text"
      },
      "cell_type": "markdown",
      "source": [
        "Multi-dimensional slicing is also supported."
      ]
    },
    {
      "metadata": {
        "id": "IiOYPhaJ7Bwz",
        "colab_type": "code",
        "colab": {},
        "outputId": "2042bdd9-12ed-4a32-f709-9875bc642359"
      },
      "cell_type": "code",
      "source": [
        "x[1:2,1:3]"
      ],
      "execution_count": 0,
      "outputs": [
        {
          "output_type": "execute_result",
          "data": {
            "text/plain": [
              "\n",
              "[[ 4.31348419  9.        ]]\n",
              "<NDArray 1x2 @cpu(0)>"
            ]
          },
          "metadata": {
            "tags": []
          },
          "execution_count": 19
        }
      ]
    },
    {
      "metadata": {
        "id": "bCJMY42M7Bw9",
        "colab_type": "code",
        "colab": {},
        "outputId": "17cac775-468c-4f38-95c4-b57fd498f953"
      },
      "cell_type": "code",
      "source": [
        "x[1:2,1:3] = 5.0\n",
        "x"
      ],
      "execution_count": 0,
      "outputs": [
        {
          "output_type": "execute_result",
          "data": {
            "text/plain": [
              "\n",
              "[[ 4.11287737  2.69355583  3.89286423  1.36900735]\n",
              " [ 3.9426415   5.          5.          2.88940048]\n",
              " [ 4.57960701  3.77100396  5.04484272  4.81243706]]\n",
              "<NDArray 3x4 @cpu(0)>"
            ]
          },
          "metadata": {
            "tags": []
          },
          "execution_count": 20
        }
      ]
    },
    {
      "metadata": {
        "id": "HugTbweF7BxL",
        "colab_type": "text"
      },
      "cell_type": "markdown",
      "source": [
        "## Broadcasting\n",
        "\n",
        "You might wonder, what happens if you add a vector `y` to a matrix `X`? These operations, where we compose a low dimensional array `y` with a high-dimensional array `X` invoke a functionality called broadcasting. Here, the low-dimensional array is duplicated along any axis with dimension $1$ to match the shape of the high dimensional array. Consider the following example."
      ]
    },
    {
      "metadata": {
        "id": "TdetXrVe7BxO",
        "colab_type": "code",
        "colab": {},
        "outputId": "b896b4c3-98e2-4ef7-f089-8c83e0ccfa82"
      },
      "cell_type": "code",
      "source": [
        "x = nd.ones(shape=(3,3))\n",
        "print('x = ', x)\n",
        "y = nd.arange(3)\n",
        "print('y = ', y)\n",
        "print('x + y = ', x + y)"
      ],
      "execution_count": 0,
      "outputs": [
        {
          "output_type": "stream",
          "text": [
            "x =  \n",
            "[[ 1.  1.  1.]\n",
            " [ 1.  1.  1.]\n",
            " [ 1.  1.  1.]]\n",
            "<NDArray 3x3 @cpu(0)>\n",
            "y =  \n",
            "[ 0.  1.  2.]\n",
            "<NDArray 3 @cpu(0)>\n",
            "x + y =  \n",
            "[[ 1.  2.  3.]\n",
            " [ 1.  2.  3.]\n",
            " [ 1.  2.  3.]]\n",
            "<NDArray 3x3 @cpu(0)>\n"
          ],
          "name": "stdout"
        }
      ]
    },
    {
      "metadata": {
        "id": "5uTogL397Bxb",
        "colab_type": "text"
      },
      "cell_type": "markdown",
      "source": [
        "While `y` is initially of shape (3), \n",
        "MXNet infers its shape to be (1,3), \n",
        "and then broadcasts along the rows to form a (3,3) matrix). \n",
        "You might wonder, why did MXNet choose to interpret `y` as a (1,3) matrix and not (3,1). \n",
        "That's because broadcasting prefers to duplicate along the left most axis. \n",
        "We can alter this behavior by explicitly giving `y` a 2D shape."
      ]
    },
    {
      "metadata": {
        "id": "p419UeTj7Bxd",
        "colab_type": "code",
        "colab": {},
        "outputId": "9c47da8c-c9c8-4533-d512-b1803b6de521"
      },
      "cell_type": "code",
      "source": [
        "y = y.reshape((3,1))\n",
        "print('y = ', y)\n",
        "print('x + y = ', x+y)"
      ],
      "execution_count": 0,
      "outputs": [
        {
          "output_type": "stream",
          "text": [
            "y =  \n",
            "[[ 0.]\n",
            " [ 1.]\n",
            " [ 2.]]\n",
            "<NDArray 3x1 @cpu(0)>\n",
            "x + y =  \n",
            "[[ 1.  1.  1.]\n",
            " [ 2.  2.  2.]\n",
            " [ 3.  3.  3.]]\n",
            "<NDArray 3x3 @cpu(0)>\n"
          ],
          "name": "stdout"
        }
      ]
    },
    {
      "metadata": {
        "id": "PGSN9Bz57Bxn",
        "colab_type": "text"
      },
      "cell_type": "markdown",
      "source": [
        "## Converting from MXNet NDArray to NumPy\n",
        "Converting MXNet NDArrays to and from NumPy is easy. The converted arrays do not share memory."
      ]
    },
    {
      "metadata": {
        "id": "HnEdV_y27Bxp",
        "colab_type": "code",
        "colab": {},
        "outputId": "e5b4709a-4893-45f9-8b90-774dd7a404de"
      },
      "cell_type": "code",
      "source": [
        "a = x.asnumpy()\n",
        "type(a)"
      ],
      "execution_count": 0,
      "outputs": [
        {
          "output_type": "execute_result",
          "data": {
            "text/plain": [
              "numpy.ndarray"
            ]
          },
          "metadata": {
            "tags": []
          },
          "execution_count": 23
        }
      ]
    },
    {
      "metadata": {
        "id": "-VbBlP7k7Bxy",
        "colab_type": "code",
        "colab": {},
        "outputId": "d9dad764-9505-493c-8a56-3615b0bb0470"
      },
      "cell_type": "code",
      "source": [
        "y = nd.array(a) \n",
        "y"
      ],
      "execution_count": 0,
      "outputs": [
        {
          "output_type": "execute_result",
          "data": {
            "text/plain": [
              "\n",
              "[[ 1.  1.  1.]\n",
              " [ 1.  1.  1.]\n",
              " [ 1.  1.  1.]]\n",
              "<NDArray 3x3 @cpu(0)>"
            ]
          },
          "metadata": {
            "tags": []
          },
          "execution_count": 24
        }
      ]
    },
    {
      "metadata": {
        "id": "nfbVab0E7Bx9",
        "colab_type": "text"
      },
      "cell_type": "markdown",
      "source": [
        "## Managing context\n",
        "You might have noticed that MXNet NDArray looks almost identical to NumPy. \n",
        "But there are a few crucial differences.\n",
        "One of the key features that differentiates MXNet from NumPy is its support for diverse hardware devices.\n",
        "\n",
        "In MXNet, every array has a context. \n",
        "One context could be the CPU. \n",
        "Other contexts might be various GPUs. \n",
        "Things can get even hairier when we deploy jobs across multiple servers. \n",
        "By assigning arrays to contexts intelligently, \n",
        "we can minimize the time spent transferring data between devices. \n",
        "For example, when training neural networks on a server with a GPU, \n",
        "we typically prefer for the model's parameters to live on the GPU. \n",
        "To start, let's try initializing an array on the first GPU."
      ]
    },
    {
      "metadata": {
        "id": "4Zazpdlo7ByA",
        "colab_type": "code",
        "colab": {},
        "outputId": "8206b9ce-27ce-46f0-bcc1-7d3181927469"
      },
      "cell_type": "code",
      "source": [
        "z = nd.ones(shape=(3,3), ctx=mx.gpu(0))\n",
        "z"
      ],
      "execution_count": 0,
      "outputs": [
        {
          "output_type": "execute_result",
          "data": {
            "text/plain": [
              "\n",
              "[[ 1.  1.  1.]\n",
              " [ 1.  1.  1.]\n",
              " [ 1.  1.  1.]]\n",
              "<NDArray 3x3 @gpu(0)>"
            ]
          },
          "metadata": {
            "tags": []
          },
          "execution_count": 25
        }
      ]
    },
    {
      "metadata": {
        "id": "KT5J1tUT7ByP",
        "colab_type": "text"
      },
      "cell_type": "markdown",
      "source": [
        "Given an NDArray on a given context, we can copy it to another context by using the copyto() method."
      ]
    },
    {
      "metadata": {
        "id": "DXIoLp6I7ByR",
        "colab_type": "code",
        "colab": {},
        "outputId": "88ae0533-e3dd-4802-f001-874d7559fea2"
      },
      "cell_type": "code",
      "source": [
        "x_gpu = x.copyto(mx.gpu(0))\n",
        "print(x_gpu)"
      ],
      "execution_count": 0,
      "outputs": [
        {
          "output_type": "stream",
          "text": [
            "\n",
            "[[ 1.  1.  1.]\n",
            " [ 1.  1.  1.]\n",
            " [ 1.  1.  1.]]\n",
            "<NDArray 3x3 @gpu(0)>\n"
          ],
          "name": "stdout"
        }
      ]
    },
    {
      "metadata": {
        "id": "VR0d59ii7Byd",
        "colab_type": "text"
      },
      "cell_type": "markdown",
      "source": [
        "The result of an operator will have the same context as the inputs."
      ]
    },
    {
      "metadata": {
        "id": "NF4BFgO57Byf",
        "colab_type": "code",
        "colab": {},
        "outputId": "d7e476f4-b052-4de9-b91e-6e21b7f8b41e"
      },
      "cell_type": "code",
      "source": [
        "x_gpu + z"
      ],
      "execution_count": 0,
      "outputs": [
        {
          "output_type": "execute_result",
          "data": {
            "text/plain": [
              "\n",
              "[[ 2.  2.  2.]\n",
              " [ 2.  2.  2.]\n",
              " [ 2.  2.  2.]]\n",
              "<NDArray 3x3 @gpu(0)>"
            ]
          },
          "metadata": {
            "tags": []
          },
          "execution_count": 27
        }
      ]
    },
    {
      "metadata": {
        "id": "X4lVIPqF7Bym",
        "colab_type": "text"
      },
      "cell_type": "markdown",
      "source": [
        "If we ever want to check the context of an NDArray programmaticaly, \n",
        "we can just call its `.context` attribute."
      ]
    },
    {
      "metadata": {
        "id": "-GCpKQrR7Byo",
        "colab_type": "code",
        "colab": {},
        "outputId": "0d2e0fce-4e00-4d87-e3ce-d050768e5dd4"
      },
      "cell_type": "code",
      "source": [
        "print(x_gpu.context)\n",
        "print(z.context)"
      ],
      "execution_count": 0,
      "outputs": [
        {
          "output_type": "stream",
          "text": [
            "gpu(0)\n",
            "gpu(0)\n"
          ],
          "name": "stdout"
        }
      ]
    },
    {
      "metadata": {
        "id": "qdV_iTf17By0",
        "colab_type": "text"
      },
      "cell_type": "markdown",
      "source": [
        "In order to perform an operation on two ndarrays `x1` and `x2`,\n",
        "we need them both to live on the same context. \n",
        "And if they don't already, \n",
        "we may need to explicitly copy data from one context to another.\n",
        "You might think that's annoying. \n",
        "After all, we just demonstrated that MXNet knows where each NDArray lives. \n",
        "So why can't MXNet just automatically copy `x1` to `x2.context` and then add them?\n",
        "\n",
        "In short, people use MXNet to do machine learning\n",
        "because they expect it to be fast. \n",
        "But transferring variables between different contexts is slow. \n",
        "So we want you to be 100% certain that you want to do something slow \n",
        "before we let you do it. \n",
        "If MXNet just did the copy automatically without crashing\n",
        "then you might not realize that you had written some slow code.\n",
        "We don't want you to spend your entire life on StackOverflow,\n",
        "so we make some mistakes impossible. \n",
        "\n",
        "![](https://github.com/brianmcconnel/mxnet-the-straight-dope/blob/master/img/operator-context.png?raw=1)"
      ]
    },
    {
      "metadata": {
        "id": "1-6ntSGK7By3",
        "colab_type": "text"
      },
      "cell_type": "markdown",
      "source": [
        "## Watch out!\n",
        "\n",
        "Imagine that your variable z already lives on your second GPU (`gpu(0)`). What happens if we call `z.copyto(gpu(0))`? It will make a copy and allocate new memory, even though that variable already lives on the desired device!\n",
        "\n",
        "There are times where depending on the environment our code is running in,\n",
        "two variables may already live on the same device.\n",
        "So we only want to make a copy if the variables currently lives on different contexts. \n",
        "In these cases, we can call `as_in_context()`. \n",
        "If the variable is already the specified context then this is a no-op."
      ]
    },
    {
      "metadata": {
        "id": "ByOZxFpR7By5",
        "colab_type": "code",
        "colab": {},
        "outputId": "716d9751-6feb-4cc8-d414-2491994cf8c5"
      },
      "cell_type": "code",
      "source": [
        "print('id(z):', id(z))\n",
        "z = z.copyto(mx.gpu(0))\n",
        "print('id(z):', id(z))\n",
        "z = z.as_in_context(mx.gpu(0))\n",
        "print('id(z):', id(z))\n",
        "print(z)"
      ],
      "execution_count": 0,
      "outputs": [
        {
          "output_type": "stream",
          "text": [
            "id(z): 140291459785224\n",
            "id(z): 140291460485072\n",
            "id(z): 140291460485072\n",
            "\n",
            "[[ 1.  1.  1.]\n",
            " [ 1.  1.  1.]\n",
            " [ 1.  1.  1.]]\n",
            "<NDArray 3x3 @gpu(0)>\n"
          ],
          "name": "stdout"
        }
      ]
    },
    {
      "metadata": {
        "id": "v2MdsoAT7BzC",
        "colab_type": "text"
      },
      "cell_type": "markdown",
      "source": [
        "## Next\n",
        "[Linear algebra](../chapter01_crashcourse/linear-algebra.ipynb)"
      ]
    },
    {
      "metadata": {
        "collapsed": true,
        "id": "6Lky_zOk7BzE",
        "colab_type": "text"
      },
      "cell_type": "markdown",
      "source": [
        "For whinges or inquiries, [open an issue on  GitHub.](https://github.com/zackchase/mxnet-the-straight-dope)"
      ]
    }
  ]
}